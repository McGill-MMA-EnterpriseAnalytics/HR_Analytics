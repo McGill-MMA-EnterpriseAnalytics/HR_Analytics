{
 "cells": [
  {
   "cell_type": "markdown",
   "metadata": {},
   "source": [
    "# Packages and Dataset Imports"
   ]
  },
  {
   "cell_type": "code",
   "execution_count": 4,
   "metadata": {},
   "outputs": [],
   "source": [
    "import pandas as pd\n",
    "import numpy as np\n",
    "import os\n",
    "from imblearn.over_sampling import SMOTE\n",
    "from lightgbm import LGBMClassifier\n",
    "import random\n",
    "from scipy.stats import randint\n",
    "import xgboost as xgb\n",
    "import seaborn as sns\n",
    "\n",
    "\n",
    "from sklearn import metrics\n",
    "from sklearn.metrics import accuracy_score, classification_report, confusion_matrix, precision_recall_curve, average_precision_score, roc_curve, roc_auc_score, plot_confusion_matrix\n",
    "from sklearn import model_selection\n",
    "from sklearn.metrics import f1_score\n",
    "from sklearn.model_selection import cross_val_score, KFold, train_test_split, RandomizedSearchCV, GridSearchCV\n",
    "from sklearn.preprocessing import LabelEncoder, OrdinalEncoder, StandardScaler\n",
    "from sklearn.pipeline import Pipeline\n",
    "from sklearn.linear_model import LogisticRegression\n",
    "from sklearn.ensemble import RandomForestClassifier, GradientBoostingClassifier, AdaBoostClassifier\n",
    "from sklearn.feature_selection import RFE\n",
    "\n",
    "\n",
    "%matplotlib inline\n",
    "import matplotlib as mpl\n",
    "import matplotlib.pyplot as plt\n",
    "mpl.rc('axes', labelsize=15)\n",
    "mpl.rc('xtick', labelsize=12)\n",
    "mpl.rc('ytick', labelsize=12)"
   ]
  },
  {
   "cell_type": "code",
   "execution_count": 5,
   "metadata": {},
   "outputs": [],
   "source": [
    "#dir_path = \"https://raw.githubusercontent.com/McGill-MMA-EnterpriseAnalytics/HR_Analytics/main/\"\n",
    "#data_path = os.path.join(dir_path, \"data\")\n",
    "#original_file_path = os.path.join(data_path, \"hr_attrition.csv\")\n",
    "#df = pd.read_csv(original_file_path)\n",
    "\n",
    "url = 'https://raw.githubusercontent.com/McGill-MMA-EnterpriseAnalytics/HR_Analytics/main/data/hr_attrition.csv'\n",
    "df = pd.read_csv(url)"
   ]
  },
  {
   "cell_type": "code",
   "execution_count": 6,
   "metadata": {},
   "outputs": [
    {
     "data": {
      "text/html": [
       "<div>\n",
       "<style scoped>\n",
       "    .dataframe tbody tr th:only-of-type {\n",
       "        vertical-align: middle;\n",
       "    }\n",
       "\n",
       "    .dataframe tbody tr th {\n",
       "        vertical-align: top;\n",
       "    }\n",
       "\n",
       "    .dataframe thead th {\n",
       "        text-align: right;\n",
       "    }\n",
       "</style>\n",
       "<table border=\"1\" class=\"dataframe\">\n",
       "  <thead>\n",
       "    <tr style=\"text-align: right;\">\n",
       "      <th></th>\n",
       "      <th>Age</th>\n",
       "      <th>Attrition</th>\n",
       "      <th>BusinessTravel</th>\n",
       "      <th>DailyRate</th>\n",
       "      <th>Department</th>\n",
       "      <th>DistanceFromHome</th>\n",
       "      <th>Education</th>\n",
       "      <th>EducationField</th>\n",
       "      <th>EmployeeCount</th>\n",
       "      <th>EmployeeNumber</th>\n",
       "      <th>...</th>\n",
       "      <th>RelationshipSatisfaction</th>\n",
       "      <th>StandardHours</th>\n",
       "      <th>StockOptionLevel</th>\n",
       "      <th>TotalWorkingYears</th>\n",
       "      <th>TrainingTimesLastYear</th>\n",
       "      <th>WorkLifeBalance</th>\n",
       "      <th>YearsAtCompany</th>\n",
       "      <th>YearsInCurrentRole</th>\n",
       "      <th>YearsSinceLastPromotion</th>\n",
       "      <th>YearsWithCurrManager</th>\n",
       "    </tr>\n",
       "  </thead>\n",
       "  <tbody>\n",
       "    <tr>\n",
       "      <th>0</th>\n",
       "      <td>41</td>\n",
       "      <td>Yes</td>\n",
       "      <td>Travel_Rarely</td>\n",
       "      <td>1102</td>\n",
       "      <td>Sales</td>\n",
       "      <td>1</td>\n",
       "      <td>2</td>\n",
       "      <td>Life Sciences</td>\n",
       "      <td>1</td>\n",
       "      <td>1</td>\n",
       "      <td>...</td>\n",
       "      <td>1</td>\n",
       "      <td>80</td>\n",
       "      <td>0</td>\n",
       "      <td>8</td>\n",
       "      <td>0</td>\n",
       "      <td>1</td>\n",
       "      <td>6</td>\n",
       "      <td>4</td>\n",
       "      <td>0</td>\n",
       "      <td>5</td>\n",
       "    </tr>\n",
       "    <tr>\n",
       "      <th>1</th>\n",
       "      <td>49</td>\n",
       "      <td>No</td>\n",
       "      <td>Travel_Frequently</td>\n",
       "      <td>279</td>\n",
       "      <td>Research &amp; Development</td>\n",
       "      <td>8</td>\n",
       "      <td>1</td>\n",
       "      <td>Life Sciences</td>\n",
       "      <td>1</td>\n",
       "      <td>2</td>\n",
       "      <td>...</td>\n",
       "      <td>4</td>\n",
       "      <td>80</td>\n",
       "      <td>1</td>\n",
       "      <td>10</td>\n",
       "      <td>3</td>\n",
       "      <td>3</td>\n",
       "      <td>10</td>\n",
       "      <td>7</td>\n",
       "      <td>1</td>\n",
       "      <td>7</td>\n",
       "    </tr>\n",
       "    <tr>\n",
       "      <th>2</th>\n",
       "      <td>37</td>\n",
       "      <td>Yes</td>\n",
       "      <td>Travel_Rarely</td>\n",
       "      <td>1373</td>\n",
       "      <td>Research &amp; Development</td>\n",
       "      <td>2</td>\n",
       "      <td>2</td>\n",
       "      <td>Other</td>\n",
       "      <td>1</td>\n",
       "      <td>4</td>\n",
       "      <td>...</td>\n",
       "      <td>2</td>\n",
       "      <td>80</td>\n",
       "      <td>0</td>\n",
       "      <td>7</td>\n",
       "      <td>3</td>\n",
       "      <td>3</td>\n",
       "      <td>0</td>\n",
       "      <td>0</td>\n",
       "      <td>0</td>\n",
       "      <td>0</td>\n",
       "    </tr>\n",
       "    <tr>\n",
       "      <th>3</th>\n",
       "      <td>33</td>\n",
       "      <td>No</td>\n",
       "      <td>Travel_Frequently</td>\n",
       "      <td>1392</td>\n",
       "      <td>Research &amp; Development</td>\n",
       "      <td>3</td>\n",
       "      <td>4</td>\n",
       "      <td>Life Sciences</td>\n",
       "      <td>1</td>\n",
       "      <td>5</td>\n",
       "      <td>...</td>\n",
       "      <td>3</td>\n",
       "      <td>80</td>\n",
       "      <td>0</td>\n",
       "      <td>8</td>\n",
       "      <td>3</td>\n",
       "      <td>3</td>\n",
       "      <td>8</td>\n",
       "      <td>7</td>\n",
       "      <td>3</td>\n",
       "      <td>0</td>\n",
       "    </tr>\n",
       "    <tr>\n",
       "      <th>4</th>\n",
       "      <td>27</td>\n",
       "      <td>No</td>\n",
       "      <td>Travel_Rarely</td>\n",
       "      <td>591</td>\n",
       "      <td>Research &amp; Development</td>\n",
       "      <td>2</td>\n",
       "      <td>1</td>\n",
       "      <td>Medical</td>\n",
       "      <td>1</td>\n",
       "      <td>7</td>\n",
       "      <td>...</td>\n",
       "      <td>4</td>\n",
       "      <td>80</td>\n",
       "      <td>1</td>\n",
       "      <td>6</td>\n",
       "      <td>3</td>\n",
       "      <td>3</td>\n",
       "      <td>2</td>\n",
       "      <td>2</td>\n",
       "      <td>2</td>\n",
       "      <td>2</td>\n",
       "    </tr>\n",
       "  </tbody>\n",
       "</table>\n",
       "<p>5 rows × 35 columns</p>\n",
       "</div>"
      ],
      "text/plain": [
       "   Age Attrition     BusinessTravel  DailyRate              Department  \\\n",
       "0   41       Yes      Travel_Rarely       1102                   Sales   \n",
       "1   49        No  Travel_Frequently        279  Research & Development   \n",
       "2   37       Yes      Travel_Rarely       1373  Research & Development   \n",
       "3   33        No  Travel_Frequently       1392  Research & Development   \n",
       "4   27        No      Travel_Rarely        591  Research & Development   \n",
       "\n",
       "   DistanceFromHome  Education EducationField  EmployeeCount  EmployeeNumber  \\\n",
       "0                 1          2  Life Sciences              1               1   \n",
       "1                 8          1  Life Sciences              1               2   \n",
       "2                 2          2          Other              1               4   \n",
       "3                 3          4  Life Sciences              1               5   \n",
       "4                 2          1        Medical              1               7   \n",
       "\n",
       "   ...  RelationshipSatisfaction StandardHours  StockOptionLevel  \\\n",
       "0  ...                         1            80                 0   \n",
       "1  ...                         4            80                 1   \n",
       "2  ...                         2            80                 0   \n",
       "3  ...                         3            80                 0   \n",
       "4  ...                         4            80                 1   \n",
       "\n",
       "   TotalWorkingYears  TrainingTimesLastYear WorkLifeBalance  YearsAtCompany  \\\n",
       "0                  8                      0               1               6   \n",
       "1                 10                      3               3              10   \n",
       "2                  7                      3               3               0   \n",
       "3                  8                      3               3               8   \n",
       "4                  6                      3               3               2   \n",
       "\n",
       "  YearsInCurrentRole  YearsSinceLastPromotion  YearsWithCurrManager  \n",
       "0                  4                        0                     5  \n",
       "1                  7                        1                     7  \n",
       "2                  0                        0                     0  \n",
       "3                  7                        3                     0  \n",
       "4                  2                        2                     2  \n",
       "\n",
       "[5 rows x 35 columns]"
      ]
     },
     "execution_count": 6,
     "metadata": {},
     "output_type": "execute_result"
    }
   ],
   "source": [
    "df.head()"
   ]
  },
  {
   "cell_type": "markdown",
   "metadata": {},
   "source": [
    "# Custom Functions Summary\n",
    "* From the data cleaning/transformation notebook"
   ]
  },
  {
   "cell_type": "code",
   "execution_count": 7,
   "metadata": {},
   "outputs": [],
   "source": [
    "from sklearn.preprocessing import LabelEncoder\n",
    "from sklearn.preprocessing import OrdinalEncoder\n",
    "from sklearn.preprocessing import StandardScaler\n",
    "from sklearn.pipeline import Pipeline\n",
    "\n",
    "### returns split data that has been standardized\n",
    "def standardize(data):\n",
    "    \n",
    "    # categorizing features\n",
    "    ohe_vars = ['Department', 'Gender', 'MaritalStatus', 'OverTime']\n",
    "    ordinal_vars = ['BusinessTravel', 'Education', 'EnvironmentSatisfaction', 'JobInvolvement', 'JobLevel', 'JobSatisfaction', 'PerformanceRating', 'RelationshipSatisfaction', 'StockOptionLevel', 'WorkLifeBalance']\n",
    "    lab_vars = ['EducationField', 'JobRole']\n",
    "    \n",
    "    df_num = [] # list of numerical variables\n",
    "    cat_vars = ordinal_vars + ohe_vars + lab_vars\n",
    "    cat_vars.append('Attrition') # target variable\n",
    "    for i in list(data.columns):\n",
    "        if i not in cat_vars:\n",
    "            df_num.append(i)\n",
    "    \n",
    "    # standardizing numerical variables\n",
    "    sc = StandardScaler()\n",
    "    X = data[df_num]\n",
    "    y = data['Attrition']\n",
    "    X_train, X_val_test, y_train, y_val_test = train_test_split(X, y, test_size = 0.3, random_state = 6)\n",
    "    X_val, X_test, y_val, y_test = train_test_split(X_val_test, y_val_test, test_size = 0.5, random_state = 6)\n",
    "    X_train_std = sc.fit_transform(X_train)\n",
    "    X_test_std = sc.fit(X_test)\n",
    "    X_val_std = sc.fit(X_val)\n",
    "    \n",
    "    \n",
    "    return X_train_std, X_test_std, X_val_std, y_train, y_test, y_val\n",
    "\n",
    "\n",
    "### returns DataFrame with non-standardized numerical variables and encoded categorical variables\n",
    "def transform_encoding(data):\n",
    "    # first dropping the unnecessary columns\n",
    "    if 'EmployeeCount' in list(data.columns):\n",
    "        data = data.drop(['EmployeeCount', 'EmployeeNumber', 'StandardHours', 'Over18'], axis = 'columns')\n",
    "    \n",
    "    # categorizing features\n",
    "    ohe_vars = ['Department', 'Gender', 'MaritalStatus', 'OverTime']\n",
    "    ordinal_vars = ['BusinessTravel', 'Education', 'EnvironmentSatisfaction', 'JobInvolvement', 'JobLevel', 'JobSatisfaction', 'PerformanceRating', 'RelationshipSatisfaction', 'StockOptionLevel', 'WorkLifeBalance']\n",
    "    lab_vars = ['EducationField', 'JobRole']\n",
    "    \n",
    "    # filtering the data to exclude outliers in the YearsAtCompany and TotalWorkingYears variables\n",
    "    data = data[data['YearsAtCompany'] < 30]\n",
    "    data = data[data['TotalWorkingYears'] < 30]\n",
    "    \n",
    "    # ordinal encoding of the ordinal variables\n",
    "    if type(data['BusinessTravel'][0]) == str:\n",
    "        data['BusinessTravel'] = data['BusinessTravel'].replace({'Non-Travel': 0, 'Travel_Rarely': 1, 'Travel_Frequently': 2})\n",
    "    ord_pipeline = Pipeline([('ord_enc', OrdinalEncoder())])\n",
    "    data[ordinal_vars] = ord_pipeline.fit_transform(data[ordinal_vars])\n",
    "\n",
    "    # label encoding the education field and job role\n",
    "    lbl_edu = LabelEncoder()\n",
    "    edu_encoded = lbl_edu.fit_transform(data[['EducationField']])\n",
    "    lbl_job = LabelEncoder()\n",
    "    job_encoded = lbl_job.fit_transform(data[['JobRole']])\n",
    "    data['EducationField'] = edu_encoded\n",
    "    data['JobRole'] = job_encoded\n",
    "    \n",
    "    # using pd.get_dummies in lieu of OneHotEncoder\n",
    "    data = pd.concat([data, pd.get_dummies(data[ohe_vars], drop_first = True)], axis = 'columns')\n",
    "    data = data.drop(ohe_vars, axis = 1)\n",
    "    \n",
    "    if type(data['Attrition'][0]) == str:\n",
    "        data['Attrition'] = data['Attrition'].replace({'Yes': 1, 'No': 0})\n",
    "    \n",
    "    return data"
   ]
  },
  {
   "cell_type": "code",
   "execution_count": 8,
   "metadata": {},
   "outputs": [
    {
     "name": "stderr",
     "output_type": "stream",
     "text": [
      "C:\\Users\\USER\\Anaconda3\\lib\\site-packages\\sklearn\\utils\\validation.py:63: DataConversionWarning: A column-vector y was passed when a 1d array was expected. Please change the shape of y to (n_samples, ), for example using ravel().\n",
      "  return f(*args, **kwargs)\n"
     ]
    },
    {
     "data": {
      "text/plain": [
       "array([[ 0.62766673, -0.85938873,  2.10792391, ...,  1.08978804,\n",
       "        -0.68739446,  1.64248628],\n",
       "       [-0.74924025,  0.35071447, -0.005394  , ..., -0.91760963,\n",
       "         1.45476878, -0.60883309],\n",
       "       [ 0.74240897, -1.01841667,  2.10792391, ...,  1.08978804,\n",
       "        -0.68739446,  1.64248628],\n",
       "       ...,\n",
       "       [ 0.74240897,  0.57186269,  0.86479573, ...,  1.08978804,\n",
       "        -0.68739446,  1.64248628],\n",
       "       [ 0.62766673, -1.33895735, -0.50264527, ...,  1.08978804,\n",
       "        -0.68739446, -0.60883309],\n",
       "       [ 1.08663572,  0.4650158 , -0.99989654, ..., -0.91760963,\n",
       "         1.45476878, -0.60883309]])"
      ]
     },
     "execution_count": 8,
     "metadata": {},
     "output_type": "execute_result"
    }
   ],
   "source": [
    "df_enc = transform_encoding(df)\n",
    "X_train_std, X_test_std, X_val_std, y_train, y_test, y_val = standardize(df_enc)\n",
    "X_train_std"
   ]
  },
  {
   "cell_type": "code",
   "execution_count": 9,
   "metadata": {},
   "outputs": [],
   "source": [
    "#ROC Plot\n",
    "def plot_roc_curve(fpr, tpr, roc_auc):\n",
    "#    plt.style.use('classic')\n",
    "    sns.set_style(\"darkgrid\")\n",
    "    plt.title('Receiver Operating Characteristic')\n",
    "    plt.plot(fpr, tpr, 'b+', label = 'AUC = %0.2f' % roc_auc, linestyle = '-')\n",
    "    plt.fill_between(fpr, tpr, alpha = 0.5, color='gold')\n",
    "    plt.legend(loc = 'lower right')\n",
    "    plt.plot([0, 1], [0, 1],'r--')\n",
    "    plt.xlim([0, 1])\n",
    "    plt.ylim([0, 1])\n",
    "    plt.ylabel('True Positive Rate')\n",
    "    plt.xlabel('False Positive Rate')\n",
    "    plt.show()"
   ]
  },
  {
   "cell_type": "code",
   "execution_count": 10,
   "metadata": {},
   "outputs": [],
   "source": [
    "#Precision / Recall Plot\n",
    "def plot_pr_curve(precision, recall, average_precision):\n",
    "#    plt.style.use('classic')\n",
    "    sns.set_style(\"darkgrid\")\n",
    "    plt.step(recall, precision, color='b', alpha=0.2, where='post')\n",
    "    plt.fill_between(recall, precision, step='post', alpha=0.2, color='red')   \n",
    "    plt.xlabel('Recall')\n",
    "    plt.ylabel('Precision')\n",
    "    plt.ylim([0.0, 1.05])\n",
    "    plt.xlim([0.0, 1.0])\n",
    "    plt.title('2-class Precision-Recall curve: AP={0:0.2f}'.format(average_precision))\n",
    "    plt.show()"
   ]
  },
  {
   "cell_type": "code",
   "execution_count": 11,
   "metadata": {},
   "outputs": [],
   "source": [
    "#Learning curve\n",
    "def plot_learning_curves(X_train, y_train,\n",
    "                         X_test, y_test,\n",
    "                         clf,\n",
    "                         train_marker='o',\n",
    "                         test_marker='^',\n",
    "                         scoring='misclassification error',\n",
    "                         suppress_plot=False, print_model=True,\n",
    "                         style='fivethirtyeight',\n",
    "                         legend_loc='best'):\n",
    "   \n",
    "    if scoring != 'misclassification error':\n",
    "        from sklearn import metrics\n",
    "\n",
    "        scoring_func = {\n",
    "            'accuracy': metrics.accuracy_score,\n",
    "            'average_precision': metrics.average_precision_score,\n",
    "            'f1': metrics.f1_score,\n",
    "            'f1_micro': metrics.f1_score,\n",
    "            'f1_macro': metrics.f1_score,\n",
    "            'f1_weighted': metrics.f1_score,\n",
    "            'f1_samples': metrics.f1_score,\n",
    "            'log_loss': metrics.log_loss,\n",
    "            'precision': metrics.precision_score,\n",
    "            'recall': metrics.recall_score,\n",
    "            'roc_auc': metrics.roc_auc_score,\n",
    "            'adjusted_rand_score': metrics.adjusted_rand_score,\n",
    "            'mean_absolute_error': metrics.mean_absolute_error,\n",
    "            'mean_squared_error': metrics.mean_squared_error,\n",
    "            'median_absolute_error': metrics.median_absolute_error,\n",
    "            'r2': metrics.r2_score}\n",
    "\n",
    "        if scoring not in scoring_func.keys():\n",
    "            raise AttributeError('scoring must be in', scoring_func.keys())\n",
    "\n",
    "    else:\n",
    "        def misclf_err(y_predict, y):\n",
    "            return (y_predict != y).sum() / float(len(y))\n",
    "\n",
    "        scoring_func = {\n",
    "            'misclassification error': misclf_err}\n",
    "\n",
    "    training_errors = []\n",
    "    test_errors = []\n",
    "\n",
    "    rng = [int(i) for i in np.linspace(0, X_train.shape[0], 11)][1:]\n",
    "    for r in rng:\n",
    "        model = clf.fit(X_train[:r], y_train[:r])\n",
    "\n",
    "        y_train_predict = clf.predict(X_train[:r])\n",
    "        y_test_predict = clf.predict(X_test)\n",
    "\n",
    "        train_misclf = scoring_func[scoring](y_train[:r], y_train_predict)\n",
    "        training_errors.append(train_misclf)\n",
    "\n",
    "        test_misclf = scoring_func[scoring](y_test, y_test_predict)\n",
    "        test_errors.append(test_misclf)\n",
    "\n",
    "    if not suppress_plot:\n",
    "        with plt.style.context(style):\n",
    "            plt.plot(np.arange(10, 101, 10), training_errors,\n",
    "                     label='training set', marker=train_marker)\n",
    "            plt.plot(np.arange(10, 101, 10), test_errors,\n",
    "                     label='test set', marker=test_marker)\n",
    "            plt.xlabel('Training set size in percent')\n",
    "\n",
    "    if not suppress_plot:\n",
    "        with plt.style.context(style):\n",
    "            plt.ylabel('Performance')\n",
    "            if print_model:\n",
    "                plt.title('Learning Curves\\n\\n{}\\n'.format(model))\n",
    "            plt.legend(loc=legend_loc, numpoints=1)\n",
    "            plt.xlim([0, 110])\n",
    "            max_y = max(max(test_errors), max(training_errors))\n",
    "            min_y = min(min(test_errors), min(training_errors))\n",
    "            plt.ylim([min_y - min_y * 0.15, max_y + max_y * 0.15])\n",
    "    errors = (training_errors, test_errors)\n",
    "    return errors"
   ]
  },
  {
   "cell_type": "code",
   "execution_count": 12,
   "metadata": {},
   "outputs": [],
   "source": [
    "#Validation curve\n",
    "from yellowbrick.model_selection import (\n",
    "ValidationCurve,\n",
    ")\n",
    "\n",
    "def plot_val_curve(X,y, clf):\n",
    "    fig, ax = plt.subplots(figsize=(6, 4))\n",
    "    vc_viz = ValidationCurve(clf, param_name=\"max_depth\", param_range=np.arange(1, 11), cv=10, n_jobs=-1, )\n",
    "    vc_viz.fit(X, y)\n",
    "    vc_viz.poof()"
   ]
  },
  {
   "cell_type": "code",
   "execution_count": 26,
   "metadata": {},
   "outputs": [],
   "source": [
    "def clf_score(clf, X_train, y_train, X_val, y_val, train=True):\n",
    "    if train:\n",
    "        print(\"Train Result:\\n\")\n",
    "        print(\"Accuracy: {0:.4f}\\n\".format(accuracy_score(y_train, clf.predict(X_train))))\n",
    "        print(\"F1 score: {0:.4f}\\n\".format(f1_score(y_train, clf.predict(X_train), average='weighted')))\n",
    "        print(\"Classification Report: \\n {}\\n\".format(classification_report(y_train, clf.predict(X_train))))\n",
    "        print(\"Confusion Matrix: \\n {}\\n\".format(confusion_matrix(y_train, clf.predict(X_train))))\n",
    "\n",
    "        res = cross_val_score(clf, X_train, y_train, cv=10, scoring='accuracy')\n",
    "        print(\"Average Accuracy: \\t {0:.4f}\".format(np.mean(res)))\n",
    "        print(\"Accuracy SD: \\t\\t {0:.4f}\".format(np.std(res)))\n",
    "        \n",
    "        \n",
    "        plot_learning_curves(X_train, y_train, X_val, y_val, clf)\n",
    "        plt.show()\n",
    "\n",
    "    elif train == False:\n",
    "        print(\"Validation Result:\\n\")\n",
    "        print(\"Accuracy: {0:.4f}\\n\".format(accuracy_score(y_val, clf.predict(X_val))))\n",
    "        print(\"F1 score: {0:.4f}\\n\".format(f1_score(y_val, clf.predict(X_val), average='weighted')))\n",
    "        \n",
    "        precision, recall, _ = precision_recall_curve(y_val, clf.predict(X_val))\n",
    "        average_precision = average_precision_score(y_val, clf.predict(X_val))\n",
    "        plot_pr_curve(precision, recall, average_precision)\n",
    "        \n",
    "        fpr, tpr, _ = roc_curve(y_val, clf.predict(X_val))\n",
    "        roc_auc = roc_auc_score(y_val, clf.predict(X_val))\n",
    "        print(\"AUC-ROC: {0:.3f}\\n\".format(roc_auc))\n",
    "        plot_roc_curve(fpr, tpr, roc_auc)\n",
    "        \n",
    "        print(\"Classification Report: \\n {}\\n\".format(classification_report(y_val, clf.predict(X_val))))\n",
    "        print(\"Confusion Matrix: \\n {}\\n\".format(pd.DataFrame(metrics.confusion_matrix(y_val, clf.predict(X_val),\n",
    "                                                                  labels=[0,1]),index=['true:0','true:1'], columns=['pred:0','pred:1'])))\n",
    "\n",
    "        \n",
    "        \n",
    "        print(\"End of validation Result\\n\")"
   ]
  },
  {
   "cell_type": "code",
   "execution_count": 27,
   "metadata": {},
   "outputs": [],
   "source": [
    "def clf_evals(clf, X_train, y_train, X_val, y_val, X_test, y_test):\n",
    "    acc_score_val = accuracy_score(y_val, clf.predict(X_val))\n",
    "    avg_precision_val = average_precision_score(y_val, clf.predict(X_val))\n",
    "    roc_auc_val = roc_auc_score(y_val, clf.predict(X_val))\n",
    "    \n",
    "    acc_score_test = accuracy_score(y_test, clf.predict(X_test))\n",
    "    avg_precision_test = average_precision_score(y_test, clf.predict(X_test))\n",
    "    roc_auc_test = roc_auc_score(y_test, clf.predict(X_test))\n",
    "    \n",
    "    # function to return metrics of a classifier as a dictionary\n",
    "    \n",
    "    return {'Accuracy Validation': acc_score_val, 'Accuracy Test': acc_score_test, 'Precision Validation': avg_precision_val, 'Precision Test': avg_precision_test, 'AUC-ROC Validation': roc_auc_val, 'AUC-ROC Test': roc_auc_test}"
   ]
  },
  {
   "cell_type": "code",
   "execution_count": 28,
   "metadata": {},
   "outputs": [],
   "source": [
    "# function which returns the most important features using RFE with a desired number of features and desired estimator\n",
    "def important_features(estim, num):\n",
    "    X_enc = df_enc.drop('Attrition', axis = 'columns')\n",
    "    y_enc = df_enc['Attrition']\n",
    "\n",
    "    rfe = RFE(estimator = estim, step = 1, n_features_to_select = num)\n",
    "    rfe.fit(X_enc, y_enc)\n",
    "\n",
    "    feats = pd.DataFrame(rfe.ranking_)\n",
    "    feats['Feature'] = X_enc.columns\n",
    "\n",
    "    feats_to_use = list(feats[feats[0] < 2]['Feature'])\n",
    "    \n",
    "    return feats_to_use"
   ]
  },
  {
   "cell_type": "code",
   "execution_count": 29,
   "metadata": {},
   "outputs": [],
   "source": [
    "# takes in list of important features, applies train_test_split and SMOTE on the dataset using those features\n",
    "def split_and_smote(feats_to_use):\n",
    "    X_enc = df_enc[feats_to_use]\n",
    "    y_enc = df_enc['Attrition']\n",
    "\n",
    "    X_enc_train, X_enc_val_test, y_enc_train, y_enc_val_test = train_test_split(X_enc, y_enc, test_size = 0.3, random_state = 6)\n",
    "\n",
    "    X_enc_val, X_enc_test, y_enc_val, y_enc_test = train_test_split(X_enc_val_test, y_enc_val_test, test_size = 0.5, random_state = 6)\n",
    "\n",
    "    sm = SMOTE(random_state=42)\n",
    "    X_enc_train_sm, y_enc_train_sm = sm.fit_sample(X_enc_train, y_enc_train)\n",
    "    \n",
    "    return X_enc_train_sm, y_enc_train_sm, X_enc_val, y_enc_val, X_enc_test, y_enc_test"
   ]
  },
  {
   "cell_type": "markdown",
   "metadata": {},
   "source": [
    "# GradientBoostingClassifier"
   ]
  },
  {
   "cell_type": "code",
   "execution_count": 30,
   "metadata": {},
   "outputs": [
    {
     "name": "stderr",
     "output_type": "stream",
     "text": [
      "C:\\Users\\USER\\Anaconda3\\lib\\site-packages\\sklearn\\utils\\validation.py:63: DataConversionWarning: A column-vector y was passed when a 1d array was expected. Please change the shape of y to (n_samples, ), for example using ravel().\n",
      "  return f(*args, **kwargs)\n"
     ]
    }
   ],
   "source": [
    "from sklearn.metrics import f1_score\n",
    "df_enc = transform_encoding(df)\n",
    "X = df_enc.drop(['Attrition'], axis=1)\n",
    "y = df_enc['Attrition']\n",
    "\n",
    "X_train, X_val_test, y_train, y_val_test = train_test_split(X, y, test_size = 0.3, random_state = 4)\n",
    "X_val, X_test, y_val, y_test = train_test_split(X_val_test, y_val_test, test_size = 0.5, random_state = 4)\n",
    "\n"
   ]
  },
  {
   "cell_type": "code",
   "execution_count": 31,
   "metadata": {},
   "outputs": [
    {
     "ename": "SyntaxError",
     "evalue": "invalid syntax (<ipython-input-31-3d350159fbce>, line 14)",
     "output_type": "error",
     "traceback": [
      "\u001b[1;36m  File \u001b[1;32m\"<ipython-input-31-3d350159fbce>\"\u001b[1;36m, line \u001b[1;32m14\u001b[0m\n\u001b[1;33m    }\u001b[0m\n\u001b[1;37m    ^\u001b[0m\n\u001b[1;31mSyntaxError\u001b[0m\u001b[1;31m:\u001b[0m invalid syntax\n"
     ]
    }
   ],
   "source": [
    "params = {\n",
    "    \n",
    "    \"loss\":[\"deviance\"],\n",
    "    \"learning_rate\": [0.01, 0.025, 0.05, 0.075, 0.1, 0.15, 0.2],\n",
    "    \"min_samples_split\": np.linspace(0.1, 0.5, 12),\n",
    "    \"min_samples_leaf\": np.linspace(0.1, 0.5, 12),\n",
    "    \"max_depth\":[3,5,8],\n",
    "    \"max_features\":[\"log2\",\"sqrt\"],\n",
    "    \"criterion\": [\"friedman_mse\",  \"mae\"],\n",
    "    \"subsample\":[0.5, 0.618, 0.8, 0.85, 0.9, 0.95, 1.0],\n",
    "    \"n_estimators\":[10]\n",
    "    }\n",
    "    \n",
    "}\n",
    "\n",
    "gbc = GradientBoostingClassifier()\n",
    "\n",
    "gb = GridSearchCV(estimator=gbc,param_grid=params,cv=3,scoring='accuracy',n_jobs=-1)\n",
    "gb.fit(X_train,y_train)\n",
    "\n",
    "\n",
    "gb.best_params_"
   ]
  },
  {
   "cell_type": "code",
   "execution_count": 32,
   "metadata": {},
   "outputs": [
    {
     "name": "stdout",
     "output_type": "stream",
     "text": [
      "Validation Result:\n",
      "\n",
      "Accuracy: 0.8873\n",
      "\n",
      "F1 score: 0.8784\n",
      "\n"
     ]
    },
    {
     "data": {
      "image/png": "[encoded data removed]",
      "text/plain": [
       "<Figure size 576x396 with 1 Axes>"
      ]
     },
     "metadata": {},
     "output_type": "display_data"
    },
    {
     "name": "stdout",
     "output_type": "stream",
     "text": [
      "AUC-ROC: 0.715\n",
      "\n"
     ]
    },
    {
     "data": {
      "image/png": "[encoded data removed]",
      "text/plain": [
       "<Figure size 576x396 with 1 Axes>"
      ]
     },
     "metadata": {},
     "output_type": "display_data"
    },
    {
     "name": "stdout",
     "output_type": "stream",
     "text": [
      "Classification Report: \n",
      "               precision    recall  f1-score   support\n",
      "\n",
      "           0       0.91      0.96      0.94       181\n",
      "           1       0.68      0.47      0.56        32\n",
      "\n",
      "    accuracy                           0.89       213\n",
      "   macro avg       0.80      0.72      0.75       213\n",
      "weighted avg       0.88      0.89      0.88       213\n",
      "\n",
      "\n",
      "Confusion Matrix: \n",
      "         pred:0  pred:1\n",
      "true:0     174       7\n",
      "true:1      17      15\n",
      "\n",
      "End of validation Result\n",
      "\n"
     ]
    }
   ],
   "source": [
    "sm = SMOTE(random_state = 6)\n",
    "X_train_sm, y_train_sm = sm.fit_sample(X_train, y_train)\n",
    "\n",
    "gb_params ={\n",
    "    'n_estimators': 1500,\n",
    "    'max_features': 0.9,\n",
    "    'learning_rate' : 0.25,\n",
    "    'max_depth': 4,\n",
    "    'min_samples_leaf': 2,\n",
    "    'subsample': 1,\n",
    "    'max_features' : 'sqrt',\n",
    "    'verbose': 0\n",
    "}\n",
    "\n",
    "clf = GradientBoostingClassifier(**gb_params, random_state = 4)\n",
    "clf.fit(X_train_sm, y_train_sm)\n",
    "clf_score(clf, X_train_sm, y_train_sm, X_val, y_val, train = False)"
   ]
  },
  {
   "cell_type": "markdown",
   "metadata": {},
   "source": [
    "### Validation Set Metrics"
   ]
  },
  {
   "cell_type": "code",
   "execution_count": 33,
   "metadata": {},
   "outputs": [
    {
     "name": "stdout",
     "output_type": "stream",
     "text": [
      "Validation Result:\n",
      "\n",
      "Accuracy: 0.8873\n",
      "\n",
      "F1 score: 0.8784\n",
      "\n"
     ]
    },
    {
     "data": {
      "image/png": "[encoded data removed]",
      "text/plain": [
       "<Figure size 576x396 with 1 Axes>"
      ]
     },
     "metadata": {},
     "output_type": "display_data"
    },
    {
     "name": "stdout",
     "output_type": "stream",
     "text": [
      "AUC-ROC: 0.715\n",
      "\n"
     ]
    },
    {
     "data": {
      "image/png": "[encoded data removed]",
      "text/plain": [
       "<Figure size 576x396 with 1 Axes>"
      ]
     },
     "metadata": {},
     "output_type": "display_data"
    },
    {
     "name": "stdout",
     "output_type": "stream",
     "text": [
      "Classification Report: \n",
      "               precision    recall  f1-score   support\n",
      "\n",
      "           0       0.91      0.96      0.94       181\n",
      "           1       0.68      0.47      0.56        32\n",
      "\n",
      "    accuracy                           0.89       213\n",
      "   macro avg       0.80      0.72      0.75       213\n",
      "weighted avg       0.88      0.89      0.88       213\n",
      "\n",
      "\n",
      "Confusion Matrix: \n",
      "         pred:0  pred:1\n",
      "true:0     174       7\n",
      "true:1      17      15\n",
      "\n",
      "End of validation Result\n",
      "\n"
     ]
    }
   ],
   "source": [
    "clf_score(clf, X_train_sm, y_train_sm, X_val, y_val, train = False)"
   ]
  },
  {
   "cell_type": "markdown",
   "metadata": {},
   "source": [
    "### Test Set Metrics"
   ]
  },
  {
   "cell_type": "code",
   "execution_count": 34,
   "metadata": {},
   "outputs": [
    {
     "name": "stdout",
     "output_type": "stream",
     "text": [
      "Validation Result:\n",
      "\n",
      "Accuracy: 0.8873\n",
      "\n",
      "F1 score: 0.8771\n",
      "\n"
     ]
    },
    {
     "data": {
      "image/png": "[encoded data removed]",
      "text/plain": [
       "<Figure size 576x396 with 1 Axes>"
      ]
     },
     "metadata": {},
     "output_type": "display_data"
    },
    {
     "name": "stdout",
     "output_type": "stream",
     "text": [
      "AUC-ROC: 0.719\n",
      "\n"
     ]
    },
    {
     "data": {
      "image/png": "[encoded data removed]",
      "text/plain": [
       "<Figure size 576x396 with 1 Axes>"
      ]
     },
     "metadata": {},
     "output_type": "display_data"
    },
    {
     "name": "stdout",
     "output_type": "stream",
     "text": [
      "Classification Report: \n",
      "               precision    recall  f1-score   support\n",
      "\n",
      "           0       0.91      0.97      0.94       179\n",
      "           1       0.73      0.47      0.57        34\n",
      "\n",
      "    accuracy                           0.89       213\n",
      "   macro avg       0.82      0.72      0.75       213\n",
      "weighted avg       0.88      0.89      0.88       213\n",
      "\n",
      "\n",
      "Confusion Matrix: \n",
      "         pred:0  pred:1\n",
      "true:0     173       6\n",
      "true:1      18      16\n",
      "\n",
      "End of validation Result\n",
      "\n"
     ]
    }
   ],
   "source": [
    "clf_score(clf, X_train_sm, y_train_sm, X_test, y_test, train = False)"
   ]
  },
  {
   "cell_type": "markdown",
   "metadata": {},
   "source": [
    "### Other Metrics"
   ]
  },
  {
   "cell_type": "code",
   "execution_count": 35,
   "metadata": {},
   "outputs": [
    {
     "data": {
      "text/html": [
       "<div>\n",
       "<style scoped>\n",
       "    .dataframe tbody tr th:only-of-type {\n",
       "        vertical-align: middle;\n",
       "    }\n",
       "\n",
       "    .dataframe tbody tr th {\n",
       "        vertical-align: top;\n",
       "    }\n",
       "\n",
       "    .dataframe thead th {\n",
       "        text-align: right;\n",
       "    }\n",
       "</style>\n",
       "<table border=\"1\" class=\"dataframe\">\n",
       "  <thead>\n",
       "    <tr style=\"text-align: right;\">\n",
       "      <th></th>\n",
       "      <th>Score</th>\n",
       "    </tr>\n",
       "  </thead>\n",
       "  <tbody>\n",
       "    <tr>\n",
       "      <th>AUC-ROC Test</th>\n",
       "      <td>0.718534</td>\n",
       "    </tr>\n",
       "    <tr>\n",
       "      <th>AUC-ROC Validation</th>\n",
       "      <td>0.715038</td>\n",
       "    </tr>\n",
       "    <tr>\n",
       "      <th>Accuracy Test</th>\n",
       "      <td>0.887324</td>\n",
       "    </tr>\n",
       "    <tr>\n",
       "      <th>Accuracy Validation</th>\n",
       "      <td>0.887324</td>\n",
       "    </tr>\n",
       "    <tr>\n",
       "      <th>Precision Test</th>\n",
       "      <td>0.426753</td>\n",
       "    </tr>\n",
       "    <tr>\n",
       "      <th>Precision Validation</th>\n",
       "      <td>0.399414</td>\n",
       "    </tr>\n",
       "  </tbody>\n",
       "</table>\n",
       "</div>"
      ],
      "text/plain": [
       "                         Score\n",
       "AUC-ROC Test          0.718534\n",
       "AUC-ROC Validation    0.715038\n",
       "Accuracy Test         0.887324\n",
       "Accuracy Validation   0.887324\n",
       "Precision Test        0.426753\n",
       "Precision Validation  0.399414"
      ]
     },
     "execution_count": 35,
     "metadata": {},
     "output_type": "execute_result"
    }
   ],
   "source": [
    "pd.DataFrame({'Score': clf_evals(clf, X_train_sm, y_train_sm, X_val, y_val, X_test, y_test)})"
   ]
  },
  {
   "cell_type": "code",
   "execution_count": null,
   "metadata": {},
   "outputs": [],
   "source": []
  }
 ],
 "metadata": {
  "kernelspec": {
   "display_name": "Python 3",
   "language": "python",
   "name": "python3"
  },
  "language_info": {
   "codemirror_mode": {
    "name": "ipython",
    "version": 3
   },
   "file_extension": ".py",
   "mimetype": "text/x-python",
   "name": "python",
   "nbconvert_exporter": "python",
   "pygments_lexer": "ipython3",
   "version": "3.7.1"
  },
  "toc": {
   "base_numbering": 1,
   "nav_menu": {},
   "number_sections": true,
   "sideBar": true,
   "skip_h1_title": false,
   "title_cell": "Table of Contents",
   "title_sidebar": "Contents",
   "toc_cell": false,
   "toc_position": {},
   "toc_section_display": true,
   "toc_window_display": true
  }
 },
 "nbformat": 4,
 "nbformat_minor": 5
}
