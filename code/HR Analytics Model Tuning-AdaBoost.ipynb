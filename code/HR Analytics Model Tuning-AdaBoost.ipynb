{
 "cells": [
  {
   "cell_type": "markdown",
   "metadata": {},
   "source": [
    "# Packages and Dataset Imports"
   ]
  },
  {
   "cell_type": "code",
   "execution_count": 1,
   "metadata": {},
   "outputs": [],
   "source": [
    "import pandas as pd\n",
    "import numpy as np\n",
    "import os\n",
    "from imblearn.over_sampling import SMOTE\n",
    "from lightgbm import LGBMClassifier\n",
    "import random\n",
    "from scipy.stats import randint\n",
    "import xgboost as xgb\n",
    "import seaborn as sns\n",
    "\n",
    "\n",
    "from sklearn import metrics\n",
    "from sklearn.metrics import accuracy_score, classification_report, confusion_matrix, precision_recall_curve, average_precision_score, roc_curve, roc_auc_score, plot_confusion_matrix\n",
    "from sklearn import model_selection\n",
    "from sklearn.metrics import f1_score\n",
    "from sklearn.model_selection import cross_val_score, KFold, train_test_split, RandomizedSearchCV, GridSearchCV\n",
    "from sklearn.preprocessing import LabelEncoder, OrdinalEncoder, StandardScaler\n",
    "from sklearn.pipeline import Pipeline\n",
    "from sklearn.linear_model import LogisticRegression\n",
    "from sklearn.ensemble import RandomForestClassifier, GradientBoostingClassifier, AdaBoostClassifier\n",
    "from sklearn.feature_selection import RFE\n",
    "\n",
    "\n",
    "%matplotlib inline\n",
    "import matplotlib as mpl\n",
    "import matplotlib.pyplot as plt\n",
    "mpl.rc('axes', labelsize=15)\n",
    "mpl.rc('xtick', labelsize=12)\n",
    "mpl.rc('ytick', labelsize=12)"
   ]
  },
  {
   "cell_type": "code",
   "execution_count": 2,
   "metadata": {},
   "outputs": [],
   "source": [
    "#dir_path = \"https://raw.githubusercontent.com/McGill-MMA-EnterpriseAnalytics/HR_Analytics/main/\"\n",
    "#data_path = os.path.join(dir_path, \"data\")\n",
    "#original_file_path = os.path.join(data_path, \"hr_attrition.csv\")\n",
    "#df = pd.read_csv(original_file_path)\n",
    "\n",
    "url = 'https://raw.githubusercontent.com/McGill-MMA-EnterpriseAnalytics/HR_Analytics/main/data/hr_attrition.csv'\n",
    "df = pd.read_csv(url)"
   ]
  },
  {
   "cell_type": "code",
   "execution_count": 3,
   "metadata": {},
   "outputs": [
    {
     "data": {
      "text/html": [
       "<div>\n",
       "<style scoped>\n",
       "    .dataframe tbody tr th:only-of-type {\n",
       "        vertical-align: middle;\n",
       "    }\n",
       "\n",
       "    .dataframe tbody tr th {\n",
       "        vertical-align: top;\n",
       "    }\n",
       "\n",
       "    .dataframe thead th {\n",
       "        text-align: right;\n",
       "    }\n",
       "</style>\n",
       "<table border=\"1\" class=\"dataframe\">\n",
       "  <thead>\n",
       "    <tr style=\"text-align: right;\">\n",
       "      <th></th>\n",
       "      <th>Age</th>\n",
       "      <th>Attrition</th>\n",
       "      <th>BusinessTravel</th>\n",
       "      <th>DailyRate</th>\n",
       "      <th>Department</th>\n",
       "      <th>DistanceFromHome</th>\n",
       "      <th>Education</th>\n",
       "      <th>EducationField</th>\n",
       "      <th>EmployeeCount</th>\n",
       "      <th>EmployeeNumber</th>\n",
       "      <th>...</th>\n",
       "      <th>RelationshipSatisfaction</th>\n",
       "      <th>StandardHours</th>\n",
       "      <th>StockOptionLevel</th>\n",
       "      <th>TotalWorkingYears</th>\n",
       "      <th>TrainingTimesLastYear</th>\n",
       "      <th>WorkLifeBalance</th>\n",
       "      <th>YearsAtCompany</th>\n",
       "      <th>YearsInCurrentRole</th>\n",
       "      <th>YearsSinceLastPromotion</th>\n",
       "      <th>YearsWithCurrManager</th>\n",
       "    </tr>\n",
       "  </thead>\n",
       "  <tbody>\n",
       "    <tr>\n",
       "      <th>0</th>\n",
       "      <td>41</td>\n",
       "      <td>Yes</td>\n",
       "      <td>Travel_Rarely</td>\n",
       "      <td>1102</td>\n",
       "      <td>Sales</td>\n",
       "      <td>1</td>\n",
       "      <td>2</td>\n",
       "      <td>Life Sciences</td>\n",
       "      <td>1</td>\n",
       "      <td>1</td>\n",
       "      <td>...</td>\n",
       "      <td>1</td>\n",
       "      <td>80</td>\n",
       "      <td>0</td>\n",
       "      <td>8</td>\n",
       "      <td>0</td>\n",
       "      <td>1</td>\n",
       "      <td>6</td>\n",
       "      <td>4</td>\n",
       "      <td>0</td>\n",
       "      <td>5</td>\n",
       "    </tr>\n",
       "    <tr>\n",
       "      <th>1</th>\n",
       "      <td>49</td>\n",
       "      <td>No</td>\n",
       "      <td>Travel_Frequently</td>\n",
       "      <td>279</td>\n",
       "      <td>Research &amp; Development</td>\n",
       "      <td>8</td>\n",
       "      <td>1</td>\n",
       "      <td>Life Sciences</td>\n",
       "      <td>1</td>\n",
       "      <td>2</td>\n",
       "      <td>...</td>\n",
       "      <td>4</td>\n",
       "      <td>80</td>\n",
       "      <td>1</td>\n",
       "      <td>10</td>\n",
       "      <td>3</td>\n",
       "      <td>3</td>\n",
       "      <td>10</td>\n",
       "      <td>7</td>\n",
       "      <td>1</td>\n",
       "      <td>7</td>\n",
       "    </tr>\n",
       "    <tr>\n",
       "      <th>2</th>\n",
       "      <td>37</td>\n",
       "      <td>Yes</td>\n",
       "      <td>Travel_Rarely</td>\n",
       "      <td>1373</td>\n",
       "      <td>Research &amp; Development</td>\n",
       "      <td>2</td>\n",
       "      <td>2</td>\n",
       "      <td>Other</td>\n",
       "      <td>1</td>\n",
       "      <td>4</td>\n",
       "      <td>...</td>\n",
       "      <td>2</td>\n",
       "      <td>80</td>\n",
       "      <td>0</td>\n",
       "      <td>7</td>\n",
       "      <td>3</td>\n",
       "      <td>3</td>\n",
       "      <td>0</td>\n",
       "      <td>0</td>\n",
       "      <td>0</td>\n",
       "      <td>0</td>\n",
       "    </tr>\n",
       "    <tr>\n",
       "      <th>3</th>\n",
       "      <td>33</td>\n",
       "      <td>No</td>\n",
       "      <td>Travel_Frequently</td>\n",
       "      <td>1392</td>\n",
       "      <td>Research &amp; Development</td>\n",
       "      <td>3</td>\n",
       "      <td>4</td>\n",
       "      <td>Life Sciences</td>\n",
       "      <td>1</td>\n",
       "      <td>5</td>\n",
       "      <td>...</td>\n",
       "      <td>3</td>\n",
       "      <td>80</td>\n",
       "      <td>0</td>\n",
       "      <td>8</td>\n",
       "      <td>3</td>\n",
       "      <td>3</td>\n",
       "      <td>8</td>\n",
       "      <td>7</td>\n",
       "      <td>3</td>\n",
       "      <td>0</td>\n",
       "    </tr>\n",
       "    <tr>\n",
       "      <th>4</th>\n",
       "      <td>27</td>\n",
       "      <td>No</td>\n",
       "      <td>Travel_Rarely</td>\n",
       "      <td>591</td>\n",
       "      <td>Research &amp; Development</td>\n",
       "      <td>2</td>\n",
       "      <td>1</td>\n",
       "      <td>Medical</td>\n",
       "      <td>1</td>\n",
       "      <td>7</td>\n",
       "      <td>...</td>\n",
       "      <td>4</td>\n",
       "      <td>80</td>\n",
       "      <td>1</td>\n",
       "      <td>6</td>\n",
       "      <td>3</td>\n",
       "      <td>3</td>\n",
       "      <td>2</td>\n",
       "      <td>2</td>\n",
       "      <td>2</td>\n",
       "      <td>2</td>\n",
       "    </tr>\n",
       "  </tbody>\n",
       "</table>\n",
       "<p>5 rows × 35 columns</p>\n",
       "</div>"
      ],
      "text/plain": [
       "   Age Attrition     BusinessTravel  DailyRate              Department  \\\n",
       "0   41       Yes      Travel_Rarely       1102                   Sales   \n",
       "1   49        No  Travel_Frequently        279  Research & Development   \n",
       "2   37       Yes      Travel_Rarely       1373  Research & Development   \n",
       "3   33        No  Travel_Frequently       1392  Research & Development   \n",
       "4   27        No      Travel_Rarely        591  Research & Development   \n",
       "\n",
       "   DistanceFromHome  Education EducationField  EmployeeCount  EmployeeNumber  \\\n",
       "0                 1          2  Life Sciences              1               1   \n",
       "1                 8          1  Life Sciences              1               2   \n",
       "2                 2          2          Other              1               4   \n",
       "3                 3          4  Life Sciences              1               5   \n",
       "4                 2          1        Medical              1               7   \n",
       "\n",
       "   ...  RelationshipSatisfaction StandardHours  StockOptionLevel  \\\n",
       "0  ...                         1            80                 0   \n",
       "1  ...                         4            80                 1   \n",
       "2  ...                         2            80                 0   \n",
       "3  ...                         3            80                 0   \n",
       "4  ...                         4            80                 1   \n",
       "\n",
       "   TotalWorkingYears  TrainingTimesLastYear WorkLifeBalance  YearsAtCompany  \\\n",
       "0                  8                      0               1               6   \n",
       "1                 10                      3               3              10   \n",
       "2                  7                      3               3               0   \n",
       "3                  8                      3               3               8   \n",
       "4                  6                      3               3               2   \n",
       "\n",
       "  YearsInCurrentRole  YearsSinceLastPromotion  YearsWithCurrManager  \n",
       "0                  4                        0                     5  \n",
       "1                  7                        1                     7  \n",
       "2                  0                        0                     0  \n",
       "3                  7                        3                     0  \n",
       "4                  2                        2                     2  \n",
       "\n",
       "[5 rows x 35 columns]"
      ]
     },
     "execution_count": 3,
     "metadata": {},
     "output_type": "execute_result"
    }
   ],
   "source": [
    "df.head()"
   ]
  },
  {
   "cell_type": "markdown",
   "metadata": {},
   "source": [
    "# Custom Functions Summary\n",
    "* From the data cleaning/transformation notebook"
   ]
  },
  {
   "cell_type": "code",
   "execution_count": 4,
   "metadata": {},
   "outputs": [],
   "source": [
    "from sklearn.preprocessing import LabelEncoder\n",
    "from sklearn.preprocessing import OrdinalEncoder\n",
    "from sklearn.preprocessing import StandardScaler\n",
    "from sklearn.pipeline import Pipeline\n",
    "\n",
    "### returns split data that has been standardized\n",
    "def standardize(data):\n",
    "    \n",
    "    # categorizing features\n",
    "    ohe_vars = ['Department', 'Gender', 'MaritalStatus', 'OverTime']\n",
    "    ordinal_vars = ['BusinessTravel', 'Education', 'EnvironmentSatisfaction', 'JobInvolvement', 'JobLevel', 'JobSatisfaction', 'PerformanceRating', 'RelationshipSatisfaction', 'StockOptionLevel', 'WorkLifeBalance']\n",
    "    lab_vars = ['EducationField', 'JobRole']\n",
    "    \n",
    "    df_num = [] # list of numerical variables\n",
    "    cat_vars = ordinal_vars + ohe_vars + lab_vars\n",
    "    cat_vars.append('Attrition') # target variable\n",
    "    for i in list(data.columns):\n",
    "        if i not in cat_vars:\n",
    "            df_num.append(i)\n",
    "    \n",
    "    # standardizing numerical variables\n",
    "    sc = StandardScaler()\n",
    "    X = data[df_num]\n",
    "    y = data['Attrition']\n",
    "    X_train, X_val_test, y_train, y_val_test = train_test_split(X, y, test_size = 0.3, random_state = 6)\n",
    "    X_val, X_test, y_val, y_test = train_test_split(X_val_test, y_val_test, test_size = 0.5, random_state = 6)\n",
    "    X_train_std = sc.fit_transform(X_train)\n",
    "    X_test_std = sc.fit(X_test)\n",
    "    X_val_std = sc.fit(X_val)\n",
    "    \n",
    "    \n",
    "    return X_train_std, X_test_std, X_val_std, y_train, y_test, y_val\n",
    "\n",
    "\n",
    "### returns DataFrame with non-standardized numerical variables and encoded categorical variables\n",
    "def transform_encoding(data):\n",
    "    # first dropping the unnecessary columns\n",
    "    if 'EmployeeCount' in list(data.columns):\n",
    "        data = data.drop(['EmployeeCount', 'EmployeeNumber', 'StandardHours', 'Over18'], axis = 'columns')\n",
    "    \n",
    "    # categorizing features\n",
    "    ohe_vars = ['Department', 'Gender', 'MaritalStatus', 'OverTime']\n",
    "    ordinal_vars = ['BusinessTravel', 'Education', 'EnvironmentSatisfaction', 'JobInvolvement', 'JobLevel', 'JobSatisfaction', 'PerformanceRating', 'RelationshipSatisfaction', 'StockOptionLevel', 'WorkLifeBalance']\n",
    "    lab_vars = ['EducationField', 'JobRole']\n",
    "    \n",
    "    # filtering the data to exclude outliers in the YearsAtCompany and TotalWorkingYears variables\n",
    "    data = data[data['YearsAtCompany'] < 30]\n",
    "    data = data[data['TotalWorkingYears'] < 30]\n",
    "    \n",
    "    # ordinal encoding of the ordinal variables\n",
    "    if type(data['BusinessTravel'][0]) == str:\n",
    "        data['BusinessTravel'] = data['BusinessTravel'].replace({'Non-Travel': 0, 'Travel_Rarely': 1, 'Travel_Frequently': 2})\n",
    "    ord_pipeline = Pipeline([('ord_enc', OrdinalEncoder())])\n",
    "    data[ordinal_vars] = ord_pipeline.fit_transform(data[ordinal_vars])\n",
    "\n",
    "    # label encoding the education field and job role\n",
    "    lbl_edu = LabelEncoder()\n",
    "    edu_encoded = lbl_edu.fit_transform(data[['EducationField']])\n",
    "    lbl_job = LabelEncoder()\n",
    "    job_encoded = lbl_job.fit_transform(data[['JobRole']])\n",
    "    data['EducationField'] = edu_encoded\n",
    "    data['JobRole'] = job_encoded\n",
    "    \n",
    "    # using pd.get_dummies in lieu of OneHotEncoder\n",
    "    data = pd.concat([data, pd.get_dummies(data[ohe_vars], drop_first = True)], axis = 'columns')\n",
    "    data = data.drop(ohe_vars, axis = 1)\n",
    "    \n",
    "    if type(data['Attrition'][0]) == str:\n",
    "        data['Attrition'] = data['Attrition'].replace({'Yes': 1, 'No': 0})\n",
    "    \n",
    "    return data"
   ]
  },
  {
   "cell_type": "code",
   "execution_count": 5,
   "metadata": {},
   "outputs": [
    {
     "name": "stderr",
     "output_type": "stream",
     "text": [
      "C:\\Users\\USER\\Anaconda3\\lib\\site-packages\\sklearn\\utils\\validation.py:63: DataConversionWarning: A column-vector y was passed when a 1d array was expected. Please change the shape of y to (n_samples, ), for example using ravel().\n",
      "  return f(*args, **kwargs)\n"
     ]
    },
    {
     "data": {
      "text/plain": [
       "array([[ 0.62766673, -0.85938873,  2.10792391, ...,  1.08978804,\n",
       "        -0.68739446,  1.64248628],\n",
       "       [-0.74924025,  0.35071447, -0.005394  , ..., -0.91760963,\n",
       "         1.45476878, -0.60883309],\n",
       "       [ 0.74240897, -1.01841667,  2.10792391, ...,  1.08978804,\n",
       "        -0.68739446,  1.64248628],\n",
       "       ...,\n",
       "       [ 0.74240897,  0.57186269,  0.86479573, ...,  1.08978804,\n",
       "        -0.68739446,  1.64248628],\n",
       "       [ 0.62766673, -1.33895735, -0.50264527, ...,  1.08978804,\n",
       "        -0.68739446, -0.60883309],\n",
       "       [ 1.08663572,  0.4650158 , -0.99989654, ..., -0.91760963,\n",
       "         1.45476878, -0.60883309]])"
      ]
     },
     "execution_count": 5,
     "metadata": {},
     "output_type": "execute_result"
    }
   ],
   "source": [
    "df_enc = transform_encoding(df)\n",
    "X_train_std, X_test_std, X_val_std, y_train, y_test, y_val = standardize(df_enc)\n",
    "X_train_std"
   ]
  },
  {
   "cell_type": "code",
   "execution_count": 6,
   "metadata": {},
   "outputs": [],
   "source": [
    "#ROC Plot\n",
    "def plot_roc_curve(fpr, tpr, roc_auc):\n",
    "#    plt.style.use('classic')\n",
    "    sns.set_style(\"darkgrid\")\n",
    "    plt.title('Receiver Operating Characteristic')\n",
    "    plt.plot(fpr, tpr, 'b+', label = 'AUC = %0.2f' % roc_auc, linestyle = '-')\n",
    "    plt.fill_between(fpr, tpr, alpha = 0.5, color='gold')\n",
    "    plt.legend(loc = 'lower right')\n",
    "    plt.plot([0, 1], [0, 1],'r--')\n",
    "    plt.xlim([0, 1])\n",
    "    plt.ylim([0, 1])\n",
    "    plt.ylabel('True Positive Rate')\n",
    "    plt.xlabel('False Positive Rate')\n",
    "    plt.show()"
   ]
  },
  {
   "cell_type": "code",
   "execution_count": 7,
   "metadata": {},
   "outputs": [],
   "source": [
    "#Precision / Recall Plot\n",
    "def plot_pr_curve(precision, recall, average_precision):\n",
    "#    plt.style.use('classic')\n",
    "    sns.set_style(\"darkgrid\")\n",
    "    plt.step(recall, precision, color='b', alpha=0.2, where='post')\n",
    "    plt.fill_between(recall, precision, step='post', alpha=0.2, color='red')   \n",
    "    plt.xlabel('Recall')\n",
    "    plt.ylabel('Precision')\n",
    "    plt.ylim([0.0, 1.05])\n",
    "    plt.xlim([0.0, 1.0])\n",
    "    plt.title('2-class Precision-Recall curve: AP={0:0.2f}'.format(average_precision))\n",
    "    plt.show()"
   ]
  },
  {
   "cell_type": "code",
   "execution_count": 8,
   "metadata": {},
   "outputs": [],
   "source": [
    "#Learning curve\n",
    "def plot_learning_curves(X_train, y_train,\n",
    "                         X_test, y_test,\n",
    "                         clf,\n",
    "                         train_marker='o',\n",
    "                         test_marker='^',\n",
    "                         scoring='misclassification error',\n",
    "                         suppress_plot=False, print_model=True,\n",
    "                         style='fivethirtyeight',\n",
    "                         legend_loc='best'):\n",
    "   \n",
    "    if scoring != 'misclassification error':\n",
    "        from sklearn import metrics\n",
    "\n",
    "        scoring_func = {\n",
    "            'accuracy': metrics.accuracy_score,\n",
    "            'average_precision': metrics.average_precision_score,\n",
    "            'f1': metrics.f1_score,\n",
    "            'f1_micro': metrics.f1_score,\n",
    "            'f1_macro': metrics.f1_score,\n",
    "            'f1_weighted': metrics.f1_score,\n",
    "            'f1_samples': metrics.f1_score,\n",
    "            'log_loss': metrics.log_loss,\n",
    "            'precision': metrics.precision_score,\n",
    "            'recall': metrics.recall_score,\n",
    "            'roc_auc': metrics.roc_auc_score,\n",
    "            'adjusted_rand_score': metrics.adjusted_rand_score,\n",
    "            'mean_absolute_error': metrics.mean_absolute_error,\n",
    "            'mean_squared_error': metrics.mean_squared_error,\n",
    "            'median_absolute_error': metrics.median_absolute_error,\n",
    "            'r2': metrics.r2_score}\n",
    "\n",
    "        if scoring not in scoring_func.keys():\n",
    "            raise AttributeError('scoring must be in', scoring_func.keys())\n",
    "\n",
    "    else:\n",
    "        def misclf_err(y_predict, y):\n",
    "            return (y_predict != y).sum() / float(len(y))\n",
    "\n",
    "        scoring_func = {\n",
    "            'misclassification error': misclf_err}\n",
    "\n",
    "    training_errors = []\n",
    "    test_errors = []\n",
    "\n",
    "    rng = [int(i) for i in np.linspace(0, X_train.shape[0], 11)][1:]\n",
    "    for r in rng:\n",
    "        model = clf.fit(X_train[:r], y_train[:r])\n",
    "\n",
    "        y_train_predict = clf.predict(X_train[:r])\n",
    "        y_test_predict = clf.predict(X_test)\n",
    "\n",
    "        train_misclf = scoring_func[scoring](y_train[:r], y_train_predict)\n",
    "        training_errors.append(train_misclf)\n",
    "\n",
    "        test_misclf = scoring_func[scoring](y_test, y_test_predict)\n",
    "        test_errors.append(test_misclf)\n",
    "\n",
    "    if not suppress_plot:\n",
    "        with plt.style.context(style):\n",
    "            plt.plot(np.arange(10, 101, 10), training_errors,\n",
    "                     label='training set', marker=train_marker)\n",
    "            plt.plot(np.arange(10, 101, 10), test_errors,\n",
    "                     label='test set', marker=test_marker)\n",
    "            plt.xlabel('Training set size in percent')\n",
    "\n",
    "    if not suppress_plot:\n",
    "        with plt.style.context(style):\n",
    "            plt.ylabel('Performance')\n",
    "            if print_model:\n",
    "                plt.title('Learning Curves\\n\\n{}\\n'.format(model))\n",
    "            plt.legend(loc=legend_loc, numpoints=1)\n",
    "            plt.xlim([0, 110])\n",
    "            max_y = max(max(test_errors), max(training_errors))\n",
    "            min_y = min(min(test_errors), min(training_errors))\n",
    "            plt.ylim([min_y - min_y * 0.15, max_y + max_y * 0.15])\n",
    "    errors = (training_errors, test_errors)\n",
    "    return errors"
   ]
  },
  {
   "cell_type": "code",
   "execution_count": 9,
   "metadata": {},
   "outputs": [],
   "source": [
    "#Validation curve\n",
    "from yellowbrick.model_selection import (\n",
    "ValidationCurve,\n",
    ")\n",
    "\n",
    "def plot_val_curve(X,y, clf):\n",
    "    fig, ax = plt.subplots(figsize=(6, 4))\n",
    "    vc_viz = ValidationCurve(clf, param_name=\"max_depth\", param_range=np.arange(1, 11), cv=10, n_jobs=-1, )\n",
    "    vc_viz.fit(X, y)\n",
    "    vc_viz.poof()"
   ]
  },
  {
   "cell_type": "code",
   "execution_count": 10,
   "metadata": {},
   "outputs": [],
   "source": [
    "def clf_score(clf, X_train, y_train, X_val, y_val, train=True):\n",
    "    if train:\n",
    "        print(\"Train Result:\\n\")\n",
    "        print(\"Accuracy: {0:.4f}\\n\".format(accuracy_score(y_train, clf.predict(X_train))))\n",
    "        print(\"F1 score: {0:.4f}\\n\".format(f1_score(y_train, clf.predict(X_train), average='weighted')))\n",
    "        print(\"Classification Report: \\n {}\\n\".format(classification_report(y_train, clf.predict(X_train))))\n",
    "        print(\"Confusion Matrix: \\n {}\\n\".format(confusion_matrix(y_train, clf.predict(X_train))))\n",
    "\n",
    "        res = cross_val_score(clf, X_train, y_train, cv=10, scoring='accuracy')\n",
    "        print(\"Average Accuracy: \\t {0:.4f}\".format(np.mean(res)))\n",
    "        print(\"Accuracy SD: \\t\\t {0:.4f}\".format(np.std(res)))\n",
    "        \n",
    "        \n",
    "        plot_learning_curves(X_train, y_train, X_val, y_val, clf)\n",
    "        plt.show()\n",
    "\n",
    "    elif train == False:\n",
    "        print(\"Validation Result:\\n\")\n",
    "        print(\"Accuracy: {0:.4f}\\n\".format(accuracy_score(y_val, clf.predict(X_val))))\n",
    "        print(\"F1 score: {0:.4f}\\n\".format(f1_score(y_val, clf.predict(X_val), average='weighted')))\n",
    "        \n",
    "        precision, recall, _ = precision_recall_curve(y_val, clf.predict(X_val))\n",
    "        average_precision = average_precision_score(y_val, clf.predict(X_val))\n",
    "        plot_pr_curve(precision, recall, average_precision)\n",
    "        \n",
    "        fpr, tpr, _ = roc_curve(y_val, clf.predict(X_val))\n",
    "        roc_auc = roc_auc_score(y_val, clf.predict(X_val))\n",
    "        print(\"AUC-ROC: {0:.3f}\\n\".format(roc_auc))\n",
    "        plot_roc_curve(fpr, tpr, roc_auc)\n",
    "        \n",
    "        print(\"Classification Report: \\n {}\\n\".format(classification_report(y_val, clf.predict(X_val))))\n",
    "        print(\"Confusion Matrix: \\n {}\\n\".format(pd.DataFrame(metrics.confusion_matrix(y_val, clf.predict(X_val),\n",
    "                                                                  labels=[0,1]),index=['true:0','true:1'], columns=['pred:0','pred:1'])))\n",
    "\n",
    "        \n",
    "        plot_learning_curves(X_train, y_train, X_val, y_val, clf)\n",
    "        plt.show()\n",
    "        \n",
    "        print(\"End of validation Result\\n\")"
   ]
  },
  {
   "cell_type": "code",
   "execution_count": 11,
   "metadata": {},
   "outputs": [],
   "source": [
    "def clf_evals(clf, X_train, y_train, X_val, y_val, X_test, y_test):\n",
    "    acc_score_val = accuracy_score(y_val, clf.predict(X_val))\n",
    "    avg_precision_val = average_precision_score(y_val, clf.predict(X_val))\n",
    "    roc_auc_val = roc_auc_score(y_val, clf.predict(X_val))\n",
    "    \n",
    "    acc_score_test = accuracy_score(y_test, clf.predict(X_test))\n",
    "    avg_precision_test = average_precision_score(y_test, clf.predict(X_test))\n",
    "    roc_auc_test = roc_auc_score(y_test, clf.predict(X_test))\n",
    "    \n",
    "    # function to return metrics of a classifier as a dictionary\n",
    "    \n",
    "    return {'Accuracy Validation': acc_score_val, 'Accuracy Test': acc_score_test, 'Precision Validation': avg_precision_val, 'Precision Test': avg_precision_test, 'AUC-ROC Validation': roc_auc_val, 'AUC-ROC Test': roc_auc_test}"
   ]
  },
  {
   "cell_type": "code",
   "execution_count": 12,
   "metadata": {},
   "outputs": [],
   "source": [
    "# function which returns the most important features using RFE with a desired number of features and desired estimator\n",
    "def important_features(estim, num):\n",
    "    X_enc = df_enc.drop('Attrition', axis = 'columns')\n",
    "    y_enc = df_enc['Attrition']\n",
    "\n",
    "    rfe = RFE(estimator = estim, step = 1, n_features_to_select = num)\n",
    "    rfe.fit(X_enc, y_enc)\n",
    "\n",
    "    feats = pd.DataFrame(rfe.ranking_)\n",
    "    feats['Feature'] = X_enc.columns\n",
    "\n",
    "    feats_to_use = list(feats[feats[0] < 2]['Feature'])\n",
    "    \n",
    "    return feats_to_use"
   ]
  },
  {
   "cell_type": "code",
   "execution_count": 13,
   "metadata": {},
   "outputs": [],
   "source": [
    "# takes in list of important features, applies train_test_split and SMOTE on the dataset using those features\n",
    "def split_and_smote(feats_to_use):\n",
    "    X_enc = df_enc[feats_to_use]\n",
    "    y_enc = df_enc['Attrition']\n",
    "\n",
    "    X_enc_train, X_enc_val_test, y_enc_train, y_enc_val_test = train_test_split(X_enc, y_enc, test_size = 0.3, random_state = 6)\n",
    "\n",
    "    X_enc_val, X_enc_test, y_enc_val, y_enc_test = train_test_split(X_enc_val_test, y_enc_val_test, test_size = 0.5, random_state = 6)\n",
    "\n",
    "    sm = SMOTE(random_state=42)\n",
    "    X_enc_train_sm, y_enc_train_sm = sm.fit_sample(X_enc_train, y_enc_train)\n",
    "    \n",
    "    return X_enc_train_sm, y_enc_train_sm, X_enc_val, y_enc_val, X_enc_test, y_enc_test"
   ]
  },
  {
   "cell_type": "markdown",
   "metadata": {},
   "source": [
    "# Final Model - Convenient Summary"
   ]
  },
  {
   "cell_type": "markdown",
   "metadata": {},
   "source": [
    "Below is the final model, methods of finding this model are described below. This chunk is to conveniently place the model from the time of writing in the notebook."
   ]
  },
  {
   "cell_type": "code",
   "execution_count": 14,
   "metadata": {},
   "outputs": [],
   "source": [
    "final_parameters = {'n_estimators': 188, 'learning_rate': 0.9834785001549696}\n",
    "\n",
    "final_parameters_metrics = {\n",
    "     'Accuracy Validation': 0.8403755868544601,\n",
    "     'Accuracy Test': 0.8497652582159625,\n",
    "     'Precision Validation': 0.43681819916790715,\n",
    "     'Precision Test': 0.34697769953051644,\n",
    "     'AUC-ROC Validation': 0.7618406125921726,\n",
    "     'AUC-ROC Test': 0.7315262430939227,\n",
    "     'Accuracy Score': 0.8678371142226563\n",
    "}"
   ]
  },
  {
   "cell_type": "code",
   "execution_count": 15,
   "metadata": {},
   "outputs": [],
   "source": [
    "feats_to_use = important_features(AdaBoostClassifier(n_estimators = 40, random_state = 6), 29)\n",
    "\n",
    "X = df_enc[feats_to_use]\n",
    "y = df_enc['Attrition']\n",
    "\n",
    "X_train, X_val_test, y_train, y_val_test = train_test_split(X, y, test_size = 0.3, random_state = 6)\n",
    "X_val, X_test, y_val, y_test = train_test_split(X_val_test, y_val_test, test_size = 0.5, random_state = 6)\n",
    "\n",
    "sm = SMOTE(random_state = 6)\n",
    "X_train_sm, y_train_sm = sm.fit_sample(X_train, y_train)"
   ]
  },
  {
   "cell_type": "code",
   "execution_count": 16,
   "metadata": {},
   "outputs": [
    {
     "data": {
      "text/plain": [
       "AdaBoostClassifier(learning_rate=0.9834785001549696, n_estimators=188,\n",
       "                   random_state=6)"
      ]
     },
     "execution_count": 16,
     "metadata": {},
     "output_type": "execute_result"
    }
   ],
   "source": [
    "ada = AdaBoostClassifier(**final_parameters, random_state = 6)\n",
    "ada.fit(X_train_sm, y_train_sm)"
   ]
  },
  {
   "cell_type": "markdown",
   "metadata": {},
   "source": [
    "### Validation Set Metrics"
   ]
  },
  {
   "cell_type": "code",
   "execution_count": 17,
   "metadata": {},
   "outputs": [
    {
     "name": "stdout",
     "output_type": "stream",
     "text": [
      "Validation Result:\n",
      "\n",
      "Accuracy: 0.8404\n",
      "\n",
      "F1 score: 0.8431\n",
      "\n"
     ]
    },
    {
     "data": {
      "image/png": "[encoded data removed]",
      "text/plain": [
       "<Figure size 576x396 with 1 Axes>"
      ]
     },
     "metadata": {},
     "output_type": "display_data"
    },
    {
     "name": "stdout",
     "output_type": "stream",
     "text": [
      "AUC-ROC: 0.762\n",
      "\n"
     ]
    },
    {
     "data": {
      "image/png": "[encoded data removed]",
      "text/plain": [
       "<Figure size 576x396 with 1 Axes>"
      ]
     },
     "metadata": {},
     "output_type": "display_data"
    },
    {
     "name": "stdout",
     "output_type": "stream",
     "text": [
      "Classification Report: \n",
      "               precision    recall  f1-score   support\n",
      "\n",
      "           0       0.91      0.89      0.90       172\n",
      "           1       0.58      0.63      0.60        41\n",
      "\n",
      "    accuracy                           0.84       213\n",
      "   macro avg       0.74      0.76      0.75       213\n",
      "weighted avg       0.85      0.84      0.84       213\n",
      "\n",
      "\n",
      "Confusion Matrix: \n",
      "         pred:0  pred:1\n",
      "true:0     153      19\n",
      "true:1      15      26\n",
      "\n"
     ]
    },
    {
     "data": {
      "image/png": "[encoded data removed]",
      "text/plain": [
       "<Figure size 576x396 with 1 Axes>"
      ]
     },
     "metadata": {},
     "output_type": "display_data"
    },
    {
     "name": "stdout",
     "output_type": "stream",
     "text": [
      "End of validation Result\n",
      "\n"
     ]
    }
   ],
   "source": [
    "clf_score(ada, X_train_sm, y_train_sm, X_val, y_val, train = False)"
   ]
  },
  {
   "cell_type": "markdown",
   "metadata": {},
   "source": [
    "### Test Set Metrics"
   ]
  },
  {
   "cell_type": "code",
   "execution_count": 18,
   "metadata": {},
   "outputs": [
    {
     "name": "stdout",
     "output_type": "stream",
     "text": [
      "Validation Result:\n",
      "\n",
      "Accuracy: 0.8498\n",
      "\n",
      "F1 score: 0.8533\n",
      "\n"
     ]
    },
    {
     "data": {
      "image/png": "[encoded data removed]",
      "text/plain": [
       "<Figure size 576x396 with 1 Axes>"
      ]
     },
     "metadata": {},
     "output_type": "display_data"
    },
    {
     "name": "stdout",
     "output_type": "stream",
     "text": [
      "AUC-ROC: 0.732\n",
      "\n"
     ]
    },
    {
     "data": {
      "image/png": "[encoded data removed]",
      "text/plain": [
       "<Figure size 576x396 with 1 Axes>"
      ]
     },
     "metadata": {},
     "output_type": "display_data"
    },
    {
     "name": "stdout",
     "output_type": "stream",
     "text": [
      "Classification Report: \n",
      "               precision    recall  f1-score   support\n",
      "\n",
      "           0       0.92      0.90      0.91       181\n",
      "           1       0.50      0.56      0.53        32\n",
      "\n",
      "    accuracy                           0.85       213\n",
      "   macro avg       0.71      0.73      0.72       213\n",
      "weighted avg       0.86      0.85      0.85       213\n",
      "\n",
      "\n",
      "Confusion Matrix: \n",
      "         pred:0  pred:1\n",
      "true:0     163      18\n",
      "true:1      14      18\n",
      "\n"
     ]
    },
    {
     "data": {
      "image/png": "[encoded data removed]",
      "text/plain": [
       "<Figure size 576x396 with 1 Axes>"
      ]
     },
     "metadata": {},
     "output_type": "display_data"
    },
    {
     "name": "stdout",
     "output_type": "stream",
     "text": [
      "End of validation Result\n",
      "\n"
     ]
    }
   ],
   "source": [
    "clf_score(ada, X_train_sm, y_train_sm, X_test, y_test, train = False)"
   ]
  },
  {
   "cell_type": "markdown",
   "metadata": {},
   "source": [
    "### Other Metrics"
   ]
  },
  {
   "cell_type": "code",
   "execution_count": 19,
   "metadata": {},
   "outputs": [
    {
     "data": {
      "text/html": [
       "<div>\n",
       "<style scoped>\n",
       "    .dataframe tbody tr th:only-of-type {\n",
       "        vertical-align: middle;\n",
       "    }\n",
       "\n",
       "    .dataframe tbody tr th {\n",
       "        vertical-align: top;\n",
       "    }\n",
       "\n",
       "    .dataframe thead th {\n",
       "        text-align: right;\n",
       "    }\n",
       "</style>\n",
       "<table border=\"1\" class=\"dataframe\">\n",
       "  <thead>\n",
       "    <tr style=\"text-align: right;\">\n",
       "      <th></th>\n",
       "      <th>Score</th>\n",
       "    </tr>\n",
       "  </thead>\n",
       "  <tbody>\n",
       "    <tr>\n",
       "      <th>AUC-ROC Test</th>\n",
       "      <td>0.731526</td>\n",
       "    </tr>\n",
       "    <tr>\n",
       "      <th>AUC-ROC Validation</th>\n",
       "      <td>0.761841</td>\n",
       "    </tr>\n",
       "    <tr>\n",
       "      <th>Accuracy Test</th>\n",
       "      <td>0.849765</td>\n",
       "    </tr>\n",
       "    <tr>\n",
       "      <th>Accuracy Validation</th>\n",
       "      <td>0.840376</td>\n",
       "    </tr>\n",
       "    <tr>\n",
       "      <th>Precision Test</th>\n",
       "      <td>0.346978</td>\n",
       "    </tr>\n",
       "    <tr>\n",
       "      <th>Precision Validation</th>\n",
       "      <td>0.436818</td>\n",
       "    </tr>\n",
       "  </tbody>\n",
       "</table>\n",
       "</div>"
      ],
      "text/plain": [
       "                         Score\n",
       "AUC-ROC Test          0.731526\n",
       "AUC-ROC Validation    0.761841\n",
       "Accuracy Test         0.849765\n",
       "Accuracy Validation   0.840376\n",
       "Precision Test        0.346978\n",
       "Precision Validation  0.436818"
      ]
     },
     "execution_count": 19,
     "metadata": {},
     "output_type": "execute_result"
    }
   ],
   "source": [
    "pd.DataFrame({'Score': clf_evals(ada, X_train_sm, y_train_sm, X_val, y_val, X_test, y_test)})"
   ]
  },
  {
   "cell_type": "markdown",
   "metadata": {},
   "source": [
    "# From Model Selection"
   ]
  },
  {
   "cell_type": "markdown",
   "metadata": {},
   "source": [
    "The best performing model in the selection process was `LGBMClassifier`. We begin by tuning hyperparameters for an `LGBMClassifier` model in an attempt to have an optimally performing model.<br>\n",
    "First, we use RFE to select the most important features, one at a time, and test model performance as we recursively add features to the model. By doing this, we see the optimal number of features, and ensure that these features are the most important ones according to the `LGBMClassifier` feature importances."
   ]
  },
  {
   "cell_type": "markdown",
   "metadata": {},
   "source": [
    "## Refining Features for LGBMClassifier"
   ]
  },
  {
   "cell_type": "code",
   "execution_count": 20,
   "metadata": {},
   "outputs": [],
   "source": [
    "mets = dict()\n",
    "\n",
    "for i in range(1, 33):\n",
    "    \n",
    "    feats_to_use = important_features(AdaBoostClassifier(n_estimators = 40, random_state = 6), i)\n",
    "    X_enc_train_sm, y_enc_train_sm, X_enc_val, y_enc_val, X_enc_test, y_enc_test = split_and_smote(feats_to_use)\n",
    "\n",
    "    clf = AdaBoostClassifier(n_estimators = 40, random_state = 6)\n",
    "    clf.fit(X_enc_train_sm, y_enc_train_sm)\n",
    "    \n",
    "    mets[i] = clf_evals(clf, X_enc_train_sm, y_enc_train_sm, X_enc_val, y_enc_val, X_enc_test, y_enc_test)\n",
    "    \n",
    "feature_metrics = pd.DataFrame.from_dict(mets).T"
   ]
  },
  {
   "cell_type": "code",
   "execution_count": 14,
   "metadata": {},
   "outputs": [
    {
     "data": {
      "text/html": [
       "<div>\n",
       "<style scoped>\n",
       "    .dataframe tbody tr th:only-of-type {\n",
       "        vertical-align: middle;\n",
       "    }\n",
       "\n",
       "    .dataframe tbody tr th {\n",
       "        vertical-align: top;\n",
       "    }\n",
       "\n",
       "    .dataframe thead th {\n",
       "        text-align: right;\n",
       "    }\n",
       "</style>\n",
       "<table border=\"1\" class=\"dataframe\">\n",
       "  <thead>\n",
       "    <tr style=\"text-align: right;\">\n",
       "      <th></th>\n",
       "      <th>Accuracy Validation</th>\n",
       "      <th>Accuracy Test</th>\n",
       "      <th>Precision Validation</th>\n",
       "      <th>Precision Test</th>\n",
       "      <th>AUC-ROC Validation</th>\n",
       "      <th>AUC-ROC Test</th>\n",
       "    </tr>\n",
       "  </thead>\n",
       "  <tbody>\n",
       "    <tr>\n",
       "      <th>1</th>\n",
       "      <td>0.591549</td>\n",
       "      <td>0.591549</td>\n",
       "      <td>0.208106</td>\n",
       "      <td>0.162533</td>\n",
       "      <td>0.542754</td>\n",
       "      <td>0.541005</td>\n",
       "    </tr>\n",
       "    <tr>\n",
       "      <th>2</th>\n",
       "      <td>0.690141</td>\n",
       "      <td>0.647887</td>\n",
       "      <td>0.237529</td>\n",
       "      <td>0.176131</td>\n",
       "      <td>0.594512</td>\n",
       "      <td>0.574154</td>\n",
       "    </tr>\n",
       "    <tr>\n",
       "      <th>3</th>\n",
       "      <td>0.633803</td>\n",
       "      <td>0.577465</td>\n",
       "      <td>0.220685</td>\n",
       "      <td>0.159713</td>\n",
       "      <td>0.568917</td>\n",
       "      <td>0.532718</td>\n",
       "    </tr>\n",
       "    <tr>\n",
       "      <th>4</th>\n",
       "      <td>0.615023</td>\n",
       "      <td>0.624413</td>\n",
       "      <td>0.223488</td>\n",
       "      <td>0.160570</td>\n",
       "      <td>0.575865</td>\n",
       "      <td>0.534617</td>\n",
       "    </tr>\n",
       "    <tr>\n",
       "      <th>5</th>\n",
       "      <td>0.615023</td>\n",
       "      <td>0.619718</td>\n",
       "      <td>0.228083</td>\n",
       "      <td>0.155541</td>\n",
       "      <td>0.585153</td>\n",
       "      <td>0.518992</td>\n",
       "    </tr>\n",
       "    <tr>\n",
       "      <th>6</th>\n",
       "      <td>0.713615</td>\n",
       "      <td>0.732394</td>\n",
       "      <td>0.231822</td>\n",
       "      <td>0.172731</td>\n",
       "      <td>0.581183</td>\n",
       "      <td>0.559565</td>\n",
       "    </tr>\n",
       "    <tr>\n",
       "      <th>7</th>\n",
       "      <td>0.708920</td>\n",
       "      <td>0.723005</td>\n",
       "      <td>0.229670</td>\n",
       "      <td>0.150912</td>\n",
       "      <td>0.578276</td>\n",
       "      <td>0.502590</td>\n",
       "    </tr>\n",
       "    <tr>\n",
       "      <th>8</th>\n",
       "      <td>0.737089</td>\n",
       "      <td>0.755869</td>\n",
       "      <td>0.269416</td>\n",
       "      <td>0.237668</td>\n",
       "      <td>0.632870</td>\n",
       "      <td>0.663415</td>\n",
       "    </tr>\n",
       "    <tr>\n",
       "      <th>9</th>\n",
       "      <td>0.732394</td>\n",
       "      <td>0.760563</td>\n",
       "      <td>0.272808</td>\n",
       "      <td>0.223307</td>\n",
       "      <td>0.639251</td>\n",
       "      <td>0.640452</td>\n",
       "    </tr>\n",
       "    <tr>\n",
       "      <th>10</th>\n",
       "      <td>0.751174</td>\n",
       "      <td>0.760563</td>\n",
       "      <td>0.279384</td>\n",
       "      <td>0.214826</td>\n",
       "      <td>0.641591</td>\n",
       "      <td>0.627590</td>\n",
       "    </tr>\n",
       "    <tr>\n",
       "      <th>11</th>\n",
       "      <td>0.779343</td>\n",
       "      <td>0.774648</td>\n",
       "      <td>0.310681</td>\n",
       "      <td>0.198098</td>\n",
       "      <td>0.668321</td>\n",
       "      <td>0.597289</td>\n",
       "    </tr>\n",
       "    <tr>\n",
       "      <th>12</th>\n",
       "      <td>0.812207</td>\n",
       "      <td>0.798122</td>\n",
       "      <td>0.356241</td>\n",
       "      <td>0.241558</td>\n",
       "      <td>0.697958</td>\n",
       "      <td>0.649689</td>\n",
       "    </tr>\n",
       "    <tr>\n",
       "      <th>13</th>\n",
       "      <td>0.807512</td>\n",
       "      <td>0.807512</td>\n",
       "      <td>0.334994</td>\n",
       "      <td>0.220567</td>\n",
       "      <td>0.676475</td>\n",
       "      <td>0.616626</td>\n",
       "    </tr>\n",
       "    <tr>\n",
       "      <th>14</th>\n",
       "      <td>0.802817</td>\n",
       "      <td>0.798122</td>\n",
       "      <td>0.321561</td>\n",
       "      <td>0.213175</td>\n",
       "      <td>0.664280</td>\n",
       "      <td>0.611102</td>\n",
       "    </tr>\n",
       "    <tr>\n",
       "      <th>15</th>\n",
       "      <td>0.793427</td>\n",
       "      <td>0.826291</td>\n",
       "      <td>0.332921</td>\n",
       "      <td>0.280705</td>\n",
       "      <td>0.686330</td>\n",
       "      <td>0.679126</td>\n",
       "    </tr>\n",
       "    <tr>\n",
       "      <th>16</th>\n",
       "      <td>0.830986</td>\n",
       "      <td>0.840376</td>\n",
       "      <td>0.391891</td>\n",
       "      <td>0.288674</td>\n",
       "      <td>0.718874</td>\n",
       "      <td>0.674551</td>\n",
       "    </tr>\n",
       "    <tr>\n",
       "      <th>17</th>\n",
       "      <td>0.830986</td>\n",
       "      <td>0.840376</td>\n",
       "      <td>0.391891</td>\n",
       "      <td>0.288674</td>\n",
       "      <td>0.718874</td>\n",
       "      <td>0.674551</td>\n",
       "    </tr>\n",
       "    <tr>\n",
       "      <th>18</th>\n",
       "      <td>0.830986</td>\n",
       "      <td>0.863850</td>\n",
       "      <td>0.399201</td>\n",
       "      <td>0.383354</td>\n",
       "      <td>0.728162</td>\n",
       "      <td>0.752676</td>\n",
       "    </tr>\n",
       "    <tr>\n",
       "      <th>19</th>\n",
       "      <td>0.802817</td>\n",
       "      <td>0.830986</td>\n",
       "      <td>0.321561</td>\n",
       "      <td>0.297340</td>\n",
       "      <td>0.664280</td>\n",
       "      <td>0.694751</td>\n",
       "    </tr>\n",
       "    <tr>\n",
       "      <th>20</th>\n",
       "      <td>0.821596</td>\n",
       "      <td>0.821596</td>\n",
       "      <td>0.369694</td>\n",
       "      <td>0.264654</td>\n",
       "      <td>0.703772</td>\n",
       "      <td>0.663501</td>\n",
       "    </tr>\n",
       "    <tr>\n",
       "      <th>21</th>\n",
       "      <td>0.816901</td>\n",
       "      <td>0.816901</td>\n",
       "      <td>0.370270</td>\n",
       "      <td>0.269846</td>\n",
       "      <td>0.710153</td>\n",
       "      <td>0.673602</td>\n",
       "    </tr>\n",
       "    <tr>\n",
       "      <th>22</th>\n",
       "      <td>0.816901</td>\n",
       "      <td>0.816901</td>\n",
       "      <td>0.370270</td>\n",
       "      <td>0.269846</td>\n",
       "      <td>0.710153</td>\n",
       "      <td>0.673602</td>\n",
       "    </tr>\n",
       "    <tr>\n",
       "      <th>23</th>\n",
       "      <td>0.835681</td>\n",
       "      <td>0.826291</td>\n",
       "      <td>0.407068</td>\n",
       "      <td>0.301993</td>\n",
       "      <td>0.731069</td>\n",
       "      <td>0.704852</td>\n",
       "    </tr>\n",
       "    <tr>\n",
       "      <th>24</th>\n",
       "      <td>0.812207</td>\n",
       "      <td>0.830986</td>\n",
       "      <td>0.356241</td>\n",
       "      <td>0.318853</td>\n",
       "      <td>0.697958</td>\n",
       "      <td>0.720477</td>\n",
       "    </tr>\n",
       "    <tr>\n",
       "      <th>25</th>\n",
       "      <td>0.793427</td>\n",
       "      <td>0.821596</td>\n",
       "      <td>0.340369</td>\n",
       "      <td>0.306799</td>\n",
       "      <td>0.695618</td>\n",
       "      <td>0.714952</td>\n",
       "    </tr>\n",
       "    <tr>\n",
       "      <th>26</th>\n",
       "      <td>0.793427</td>\n",
       "      <td>0.821596</td>\n",
       "      <td>0.340369</td>\n",
       "      <td>0.306799</td>\n",
       "      <td>0.695618</td>\n",
       "      <td>0.714952</td>\n",
       "    </tr>\n",
       "    <tr>\n",
       "      <th>27</th>\n",
       "      <td>0.793427</td>\n",
       "      <td>0.821596</td>\n",
       "      <td>0.340369</td>\n",
       "      <td>0.306799</td>\n",
       "      <td>0.695618</td>\n",
       "      <td>0.714952</td>\n",
       "    </tr>\n",
       "    <tr>\n",
       "      <th>28</th>\n",
       "      <td>0.798122</td>\n",
       "      <td>0.807512</td>\n",
       "      <td>0.315940</td>\n",
       "      <td>0.260101</td>\n",
       "      <td>0.661373</td>\n",
       "      <td>0.668077</td>\n",
       "    </tr>\n",
       "    <tr>\n",
       "      <th>29</th>\n",
       "      <td>0.835681</td>\n",
       "      <td>0.830986</td>\n",
       "      <td>0.428853</td>\n",
       "      <td>0.318853</td>\n",
       "      <td>0.758934</td>\n",
       "      <td>0.720477</td>\n",
       "    </tr>\n",
       "    <tr>\n",
       "      <th>30</th>\n",
       "      <td>0.821596</td>\n",
       "      <td>0.812207</td>\n",
       "      <td>0.384564</td>\n",
       "      <td>0.285452</td>\n",
       "      <td>0.722348</td>\n",
       "      <td>0.696564</td>\n",
       "    </tr>\n",
       "    <tr>\n",
       "      <th>31</th>\n",
       "      <td>0.821596</td>\n",
       "      <td>0.798122</td>\n",
       "      <td>0.406908</td>\n",
       "      <td>0.271117</td>\n",
       "      <td>0.750213</td>\n",
       "      <td>0.688277</td>\n",
       "    </tr>\n",
       "    <tr>\n",
       "      <th>32</th>\n",
       "      <td>0.821596</td>\n",
       "      <td>0.798122</td>\n",
       "      <td>0.406908</td>\n",
       "      <td>0.271117</td>\n",
       "      <td>0.750213</td>\n",
       "      <td>0.688277</td>\n",
       "    </tr>\n",
       "  </tbody>\n",
       "</table>\n",
       "</div>"
      ],
      "text/plain": [
       "    Accuracy Validation  Accuracy Test  Precision Validation  Precision Test  \\\n",
       "1              0.591549       0.591549              0.208106        0.162533   \n",
       "2              0.690141       0.647887              0.237529        0.176131   \n",
       "3              0.633803       0.577465              0.220685        0.159713   \n",
       "4              0.615023       0.624413              0.223488        0.160570   \n",
       "5              0.615023       0.619718              0.228083        0.155541   \n",
       "6              0.713615       0.732394              0.231822        0.172731   \n",
       "7              0.708920       0.723005              0.229670        0.150912   \n",
       "8              0.737089       0.755869              0.269416        0.237668   \n",
       "9              0.732394       0.760563              0.272808        0.223307   \n",
       "10             0.751174       0.760563              0.279384        0.214826   \n",
       "11             0.779343       0.774648              0.310681        0.198098   \n",
       "12             0.812207       0.798122              0.356241        0.241558   \n",
       "13             0.807512       0.807512              0.334994        0.220567   \n",
       "14             0.802817       0.798122              0.321561        0.213175   \n",
       "15             0.793427       0.826291              0.332921        0.280705   \n",
       "16             0.830986       0.840376              0.391891        0.288674   \n",
       "17             0.830986       0.840376              0.391891        0.288674   \n",
       "18             0.830986       0.863850              0.399201        0.383354   \n",
       "19             0.802817       0.830986              0.321561        0.297340   \n",
       "20             0.821596       0.821596              0.369694        0.264654   \n",
       "21             0.816901       0.816901              0.370270        0.269846   \n",
       "22             0.816901       0.816901              0.370270        0.269846   \n",
       "23             0.835681       0.826291              0.407068        0.301993   \n",
       "24             0.812207       0.830986              0.356241        0.318853   \n",
       "25             0.793427       0.821596              0.340369        0.306799   \n",
       "26             0.793427       0.821596              0.340369        0.306799   \n",
       "27             0.793427       0.821596              0.340369        0.306799   \n",
       "28             0.798122       0.807512              0.315940        0.260101   \n",
       "29             0.835681       0.830986              0.428853        0.318853   \n",
       "30             0.821596       0.812207              0.384564        0.285452   \n",
       "31             0.821596       0.798122              0.406908        0.271117   \n",
       "32             0.821596       0.798122              0.406908        0.271117   \n",
       "\n",
       "    AUC-ROC Validation  AUC-ROC Test  \n",
       "1             0.542754      0.541005  \n",
       "2             0.594512      0.574154  \n",
       "3             0.568917      0.532718  \n",
       "4             0.575865      0.534617  \n",
       "5             0.585153      0.518992  \n",
       "6             0.581183      0.559565  \n",
       "7             0.578276      0.502590  \n",
       "8             0.632870      0.663415  \n",
       "9             0.639251      0.640452  \n",
       "10            0.641591      0.627590  \n",
       "11            0.668321      0.597289  \n",
       "12            0.697958      0.649689  \n",
       "13            0.676475      0.616626  \n",
       "14            0.664280      0.611102  \n",
       "15            0.686330      0.679126  \n",
       "16            0.718874      0.674551  \n",
       "17            0.718874      0.674551  \n",
       "18            0.728162      0.752676  \n",
       "19            0.664280      0.694751  \n",
       "20            0.703772      0.663501  \n",
       "21            0.710153      0.673602  \n",
       "22            0.710153      0.673602  \n",
       "23            0.731069      0.704852  \n",
       "24            0.697958      0.720477  \n",
       "25            0.695618      0.714952  \n",
       "26            0.695618      0.714952  \n",
       "27            0.695618      0.714952  \n",
       "28            0.661373      0.668077  \n",
       "29            0.758934      0.720477  \n",
       "30            0.722348      0.696564  \n",
       "31            0.750213      0.688277  \n",
       "32            0.750213      0.688277  "
      ]
     },
     "execution_count": 14,
     "metadata": {},
     "output_type": "execute_result"
    }
   ],
   "source": [
    "feature_metrics"
   ]
  },
  {
   "cell_type": "markdown",
   "metadata": {},
   "source": [
    "It looks like 29 features using RFE is about optimal for LGBMClassifier."
   ]
  },
  {
   "cell_type": "markdown",
   "metadata": {},
   "source": [
    "**Note:** Since the compute time is not an issue here, we opt to use all 22 features instead of using dimensionality reduction techniques so as to preserve all variance in the data."
   ]
  },
  {
   "cell_type": "code",
   "execution_count": 16,
   "metadata": {},
   "outputs": [
    {
     "data": {
      "text/plain": [
       "['Age',\n",
       " 'BusinessTravel',\n",
       " 'DailyRate',\n",
       " 'DistanceFromHome',\n",
       " 'Education',\n",
       " 'EducationField',\n",
       " 'EnvironmentSatisfaction',\n",
       " 'HourlyRate',\n",
       " 'JobInvolvement',\n",
       " 'JobLevel',\n",
       " 'JobRole',\n",
       " 'JobSatisfaction',\n",
       " 'MonthlyIncome',\n",
       " 'MonthlyRate',\n",
       " 'NumCompaniesWorked',\n",
       " 'PercentSalaryHike',\n",
       " 'RelationshipSatisfaction',\n",
       " 'StockOptionLevel',\n",
       " 'TotalWorkingYears',\n",
       " 'TrainingTimesLastYear',\n",
       " 'WorkLifeBalance',\n",
       " 'YearsAtCompany',\n",
       " 'YearsInCurrentRole',\n",
       " 'YearsSinceLastPromotion',\n",
       " 'YearsWithCurrManager',\n",
       " 'Department_Research & Development',\n",
       " 'Gender_Male',\n",
       " 'MaritalStatus_Single',\n",
       " 'OverTime_Yes']"
      ]
     },
     "execution_count": 16,
     "metadata": {},
     "output_type": "execute_result"
    }
   ],
   "source": [
    "feats_to_use = important_features(LGBMClassifier(n_estimators = 40, random_state = 6), 29)\n",
    "feats_to_use"
   ]
  },
  {
   "cell_type": "markdown",
   "metadata": {},
   "source": [
    "There is actually not a linear relationship between variables like `DailyRate`, `HourlyRate`, etc. which we can detect, so we kept the variables selected in the analysis."
   ]
  },
  {
   "cell_type": "code",
   "execution_count": 19,
   "metadata": {},
   "outputs": [],
   "source": [
    "X = df_enc[feats_to_use]\n",
    "y = df_enc['Attrition']\n",
    "\n",
    "X_train, X_val_test, y_train, y_val_test = train_test_split(X, y, test_size = 0.3, random_state = 6)\n",
    "X_val, X_test, y_val, y_test = train_test_split(X_val_test, y_val_test, test_size = 0.5, random_state = 6)\n",
    "\n",
    "sm = SMOTE(random_state = 6)\n",
    "X_train_sm, y_train_sm = sm.fit_sample(X_train, y_train)"
   ]
  },
  {
   "cell_type": "markdown",
   "metadata": {},
   "source": [
    "## Randomized Search CV"
   ]
  },
  {
   "cell_type": "markdown",
   "metadata": {},
   "source": [
    "#### Using ROC-AUC Score"
   ]
  },
  {
   "cell_type": "code",
   "execution_count": 22,
   "metadata": {},
   "outputs": [
    {
     "data": {
      "text/plain": [
       "RandomizedSearchCV(estimator=AdaBoostClassifier(random_state=6), n_iter=30,\n",
       "                   param_distributions={'learning_rate': [0.7333312835520109,\n",
       "                                                          1.0231467715394635,\n",
       "                                                          0.32628040552665466,\n",
       "                                                          1.1410137991036973,\n",
       "                                                          1.2248948808193747,\n",
       "                                                          1.0469482211492505,\n",
       "                                                          0.9748325613425195,\n",
       "                                                          0.25041969110727896,\n",
       "                                                          0.9978920350100946,\n",
       "                                                          0.6473747390503684,\n",
       "                                                          0.8307569585967975,\n",
       "                                                          0.5035246737010284,\n",
       "                                                          0.248582...\n",
       "                                                          1.399322893315991,\n",
       "                                                          0.40108345824662656,\n",
       "                                                          0.8476941771385071,\n",
       "                                                          0.5012009640577594,\n",
       "                                                          1.154852268111057,\n",
       "                                                          0.2263979984681383,\n",
       "                                                          0.5926198496646797,\n",
       "                                                          1.1936471058567988,\n",
       "                                                          0.5124338704986626,\n",
       "                                                          0.7881222255292831,\n",
       "                                                          1.2842234942779105, ...],\n",
       "                                        'n_estimators': [10, 11, 12, 13, 14, 15,\n",
       "                                                         16, 17, 18, 19, 20, 21,\n",
       "                                                         22, 23, 24, 25, 26, 27,\n",
       "                                                         28, 29, 30, 31, 32, 33,\n",
       "                                                         34, 35, 36, 37, 38, 39, ...]},\n",
       "                   random_state=6, scoring='roc_auc')"
      ]
     },
     "execution_count": 22,
     "metadata": {},
     "output_type": "execute_result"
    }
   ],
   "source": [
    "params = {\n",
    "    'n_estimators': [x for x in range(10, 500)],\n",
    "    'learning_rate': [random.uniform(0, 1.5) for x in range(100)]\n",
    "}\n",
    "\n",
    "ada = AdaBoostClassifier(random_state = 6)\n",
    "rnd = RandomizedSearchCV(ada, param_distributions = params, n_iter = 30, scoring = 'roc_auc', random_state = 6)\n",
    "rnd.fit(X_train_sm, y_train_sm)"
   ]
  },
  {
   "cell_type": "code",
   "execution_count": 23,
   "metadata": {},
   "outputs": [
    {
     "name": "stdout",
     "output_type": "stream",
     "text": [
      "0.9390200727880863\n",
      "0.9192546392191666\n",
      "0.9402393210385732\n",
      "0.9389054667555585\n",
      "0.9363328938001484\n",
      "0.9404513661021692\n",
      "0.9359454410963238\n",
      "0.9331389188526706\n",
      "0.9315139643778201\n",
      "0.9327794548803394\n",
      "0.929317457406279\n",
      "0.933262173577073\n",
      "0.9370328293912973\n",
      "0.9350744004805023\n",
      "0.9396622055641947\n",
      "0.9400349250692983\n",
      "0.9410973234254382\n",
      "0.9402906481998986\n",
      "0.8992363291996354\n",
      "0.8334856488213875\n",
      "0.9416447986593223\n",
      "0.936384959794448\n",
      "0.9367727167236147\n",
      "0.9392439826400327\n",
      "0.934471295469737\n",
      "0.9372961146946924\n",
      "0.942412228815703\n",
      "0.9305099338266419\n",
      "0.9363141187504509\n",
      "0.9276424795929987\n"
     ]
    }
   ],
   "source": [
    "cvres = rnd.cv_results_\n",
    "for score in cvres[\"mean_test_score\"]:\n",
    "    print(score)"
   ]
  },
  {
   "cell_type": "code",
   "execution_count": 24,
   "metadata": {},
   "outputs": [
    {
     "name": "stdout",
     "output_type": "stream",
     "text": [
      "0.942412228815703\n",
      "{'n_estimators': 145, 'learning_rate': 0.8307569585967975}\n"
     ]
    }
   ],
   "source": [
    "print(rnd.best_score_)\n",
    "print(rnd.best_params_)"
   ]
  },
  {
   "cell_type": "markdown",
   "metadata": {},
   "source": [
    "Storing the parameters and metrics in a dictionary"
   ]
  },
  {
   "cell_type": "code",
   "execution_count": 25,
   "metadata": {},
   "outputs": [],
   "source": [
    "par = dict()\n",
    "iteration_mets = dict()"
   ]
  },
  {
   "cell_type": "code",
   "execution_count": 26,
   "metadata": {},
   "outputs": [],
   "source": [
    "ada = AdaBoostClassifier(**rnd.best_params_)\n",
    "par['Iteration 1'] = rnd.best_params_\n",
    "ada.fit(X_train_sm, y_train_sm)\n",
    "iteration_mets['Iteration 1'] = clf_evals(ada, X_train_sm, y_train_sm, X_val, y_val, X_test, y_test)"
   ]
  },
  {
   "cell_type": "markdown",
   "metadata": {},
   "source": [
    "#### Using Accuracy Score"
   ]
  },
  {
   "cell_type": "code",
   "execution_count": 27,
   "metadata": {},
   "outputs": [
    {
     "data": {
      "text/plain": [
       "RandomizedSearchCV(estimator=AdaBoostClassifier(random_state=6), n_iter=30,\n",
       "                   param_distributions={'learning_rate': [0.48312817963625504,\n",
       "                                                          0.7103646431254176,\n",
       "                                                          1.2542691940097248,\n",
       "                                                          1.3028377160812514,\n",
       "                                                          0.29879057094347966,\n",
       "                                                          0.3664549196947722,\n",
       "                                                          1.2803445627436705,\n",
       "                                                          0.8703616892597039,\n",
       "                                                          0.32317410780818895,\n",
       "                                                          0.9193098895150409,\n",
       "                                                          1.0336307212004825,\n",
       "                                                          1.2334026882668767,\n",
       "                                                          1.04164...\n",
       "                                                          0.9516187527407958,\n",
       "                                                          1.2482131805760905,\n",
       "                                                          0.6153469985453015,\n",
       "                                                          0.027060065591719806,\n",
       "                                                          0.9044633835631514,\n",
       "                                                          1.4104886642856862,\n",
       "                                                          0.8213789620260639,\n",
       "                                                          1.0918988310642672,\n",
       "                                                          0.93487497954532,\n",
       "                                                          0.11959752127725659,\n",
       "                                                          0.30532905083064643, ...],\n",
       "                                        'n_estimators': [10, 11, 12, 13, 14, 15,\n",
       "                                                         16, 17, 18, 19, 20, 21,\n",
       "                                                         22, 23, 24, 25, 26, 27,\n",
       "                                                         28, 29, 30, 31, 32, 33,\n",
       "                                                         34, 35, 36, 37, 38, 39, ...]},\n",
       "                   random_state=6, scoring='accuracy')"
      ]
     },
     "execution_count": 27,
     "metadata": {},
     "output_type": "execute_result"
    }
   ],
   "source": [
    "params = {\n",
    "    'n_estimators': [x for x in range(10, 500)],\n",
    "    'learning_rate': [random.uniform(0, 1.5) for x in range(100)]\n",
    "}\n",
    "\n",
    "ada = AdaBoostClassifier(random_state = 6)\n",
    "rnd = RandomizedSearchCV(ada, param_distributions = params, n_iter = 30, scoring = 'accuracy', random_state = 6)\n",
    "rnd.fit(X_train_sm, y_train_sm)"
   ]
  },
  {
   "cell_type": "code",
   "execution_count": 28,
   "metadata": {},
   "outputs": [
    {
     "name": "stdout",
     "output_type": "stream",
     "text": [
      "0.8564058033937553\n",
      "0.8341672998299504\n",
      "0.8636311009804987\n",
      "0.8582184594232787\n",
      "0.8654292847063931\n",
      "0.8654329027823003\n",
      "0.8600220702630341\n",
      "0.857015449184124\n",
      "0.8582184594232787\n",
      "0.8558070118311083\n",
      "0.8582148413473714\n",
      "0.8588226780997866\n",
      "0.8642244654292845\n",
      "0.8540106371431673\n",
      "0.8546003835160463\n",
      "0.8594160425485725\n",
      "0.8515829082094143\n",
      "0.8666359130214552\n",
      "0.8636292919425449\n",
      "0.8540052100293064\n",
      "0.8534082275046131\n",
      "0.8612305076160498\n",
      "0.8594232787003871\n",
      "0.8630286913419443\n",
      "0.8582220774991859\n",
      "0.8600256883389413\n",
      "0.8624262817033902\n",
      "0.8582202684612323\n",
      "0.8534046094287058\n",
      "0.8612196533883282\n"
     ]
    }
   ],
   "source": [
    "cvres = rnd.cv_results_\n",
    "for score in cvres[\"mean_test_score\"]:\n",
    "    print(score)"
   ]
  },
  {
   "cell_type": "code",
   "execution_count": 29,
   "metadata": {},
   "outputs": [
    {
     "name": "stdout",
     "output_type": "stream",
     "text": [
      "0.8666359130214552\n",
      "{'n_estimators': 193, 'learning_rate': 1.0336307212004825}\n"
     ]
    }
   ],
   "source": [
    "print(rnd.best_score_)\n",
    "print(rnd.best_params_)"
   ]
  },
  {
   "cell_type": "code",
   "execution_count": 30,
   "metadata": {},
   "outputs": [],
   "source": [
    "ada = AdaBoostClassifier(**rnd.best_params_)\n",
    "par['Iteration 2'] = rnd.best_params_\n",
    "ada.fit(X_train_sm, y_train_sm)\n",
    "iteration_mets['Iteration 2'] = clf_evals(ada, X_train_sm, y_train_sm, X_val, y_val, X_test, y_test)"
   ]
  },
  {
   "cell_type": "markdown",
   "metadata": {},
   "source": [
    "## Refining the Randomized Search"
   ]
  },
  {
   "cell_type": "code",
   "execution_count": 31,
   "metadata": {},
   "outputs": [
    {
     "data": {
      "text/plain": [
       "RandomizedSearchCV(estimator=AdaBoostClassifier(random_state=6), n_iter=30,\n",
       "                   param_distributions={'learning_rate': [0.8695821563021913,\n",
       "                                                          1.0304278927873998,\n",
       "                                                          0.9291197191390768,\n",
       "                                                          0.9401265676691193,\n",
       "                                                          0.8444923268661938,\n",
       "                                                          0.935403446627063,\n",
       "                                                          0.844381821270221,\n",
       "                                                          0.8163926895515063,\n",
       "                                                          0.9957101689664305,\n",
       "                                                          1.0965246144831364,\n",
       "                                                          0.982349068528175,\n",
       "                                                          1.0748681607877653,\n",
       "                                                          0.80111541945...\n",
       "                                                          0.9479200626079899,\n",
       "                                                          1.0148278356156055,\n",
       "                                                          0.9089672662374628,\n",
       "                                                          0.9392841507400111,\n",
       "                                                          0.8942912235996728,\n",
       "                                                          0.9163796930088663,\n",
       "                                                          0.8929605399835322,\n",
       "                                                          1.0877994141836753,\n",
       "                                                          0.9035661315681586, ...],\n",
       "                                        'n_estimators': [120, 121, 122, 123,\n",
       "                                                         124, 125, 126, 127,\n",
       "                                                         128, 129, 130, 131,\n",
       "                                                         132, 133, 134, 135,\n",
       "                                                         136, 137, 138, 139,\n",
       "                                                         140, 141, 142, 143,\n",
       "                                                         144, 145, 146, 147,\n",
       "                                                         148, 149, ...]},\n",
       "                   random_state=6, scoring='accuracy')"
      ]
     },
     "execution_count": 31,
     "metadata": {},
     "output_type": "execute_result"
    }
   ],
   "source": [
    "params = {\n",
    "    'n_estimators': [x for x in range(120, 225)],\n",
    "    'learning_rate': [random.uniform(0.8, 1.1) for x in range(100)]\n",
    "}\n",
    "\n",
    "ada = AdaBoostClassifier(random_state = 6)\n",
    "rnd = RandomizedSearchCV(ada, param_distributions = params, n_iter = 30, scoring = 'accuracy', random_state = 6)\n",
    "rnd.fit(X_train_sm, y_train_sm)"
   ]
  },
  {
   "cell_type": "code",
   "execution_count": 32,
   "metadata": {},
   "outputs": [
    {
     "name": "stdout",
     "output_type": "stream",
     "text": [
      "0.863025073266037\n",
      "0.8606244799015883\n",
      "0.8588154419479721\n",
      "0.8606335250913565\n",
      "0.870243134700966\n",
      "0.869036506385904\n",
      "0.8624317088172511\n",
      "0.8678316871087957\n",
      "0.8606280979774954\n",
      "0.8660298853069938\n",
      "0.8684413328991643\n",
      "0.8666341039835016\n",
      "0.8624335178552046\n",
      "0.8612305076160498\n",
      "0.8672365136220558\n",
      "0.86602807626904\n",
      "0.8624298997792973\n",
      "0.8648304931437462\n",
      "0.8642317015810992\n",
      "0.8612286985780961\n",
      "0.8576232859365389\n",
      "0.8600238793009878\n",
      "0.8642262744672383\n",
      "0.8618220630268822\n",
      "0.8654310937443468\n",
      "0.863030500379898\n",
      "0.8630286913419443\n",
      "0.8678298780708419\n",
      "0.8660335033829011\n",
      "0.8606244799015883\n"
     ]
    }
   ],
   "source": [
    "cvres = rnd.cv_results_\n",
    "for score in cvres[\"mean_test_score\"]:\n",
    "    print(score)"
   ]
  },
  {
   "cell_type": "code",
   "execution_count": 33,
   "metadata": {},
   "outputs": [
    {
     "name": "stdout",
     "output_type": "stream",
     "text": [
      "0.870243134700966\n",
      "{'n_estimators': 142, 'learning_rate': 0.8726742828675592}\n"
     ]
    }
   ],
   "source": [
    "print(rnd.best_score_)\n",
    "print(rnd.best_params_)"
   ]
  },
  {
   "cell_type": "code",
   "execution_count": 34,
   "metadata": {},
   "outputs": [],
   "source": [
    "ada = AdaBoostClassifier(**rnd.best_params_)\n",
    "par['Iteration 3'] = rnd.best_params_\n",
    "ada.fit(X_train_sm, y_train_sm)\n",
    "iteration_mets['Iteration 3'] = clf_evals(ada, X_train_sm, y_train_sm, X_val, y_val, X_test, y_test)"
   ]
  },
  {
   "cell_type": "code",
   "execution_count": 35,
   "metadata": {},
   "outputs": [
    {
     "data": {
      "text/html": [
       "<div>\n",
       "<style scoped>\n",
       "    .dataframe tbody tr th:only-of-type {\n",
       "        vertical-align: middle;\n",
       "    }\n",
       "\n",
       "    .dataframe tbody tr th {\n",
       "        vertical-align: top;\n",
       "    }\n",
       "\n",
       "    .dataframe thead th {\n",
       "        text-align: right;\n",
       "    }\n",
       "</style>\n",
       "<table border=\"1\" class=\"dataframe\">\n",
       "  <thead>\n",
       "    <tr style=\"text-align: right;\">\n",
       "      <th></th>\n",
       "      <th>Accuracy Validation</th>\n",
       "      <th>Accuracy Test</th>\n",
       "      <th>Precision Validation</th>\n",
       "      <th>Precision Test</th>\n",
       "      <th>AUC-ROC Validation</th>\n",
       "      <th>AUC-ROC Test</th>\n",
       "    </tr>\n",
       "  </thead>\n",
       "  <tbody>\n",
       "    <tr>\n",
       "      <th>Iteration 1</th>\n",
       "      <td>0.849765</td>\n",
       "      <td>0.835681</td>\n",
       "      <td>0.453860</td>\n",
       "      <td>0.282088</td>\n",
       "      <td>0.767655</td>\n",
       "      <td>0.671789</td>\n",
       "    </tr>\n",
       "    <tr>\n",
       "      <th>Iteration 2</th>\n",
       "      <td>0.835681</td>\n",
       "      <td>0.835681</td>\n",
       "      <td>0.428853</td>\n",
       "      <td>0.314510</td>\n",
       "      <td>0.758934</td>\n",
       "      <td>0.710376</td>\n",
       "    </tr>\n",
       "    <tr>\n",
       "      <th>Iteration 3</th>\n",
       "      <td>0.854460</td>\n",
       "      <td>0.854460</td>\n",
       "      <td>0.469830</td>\n",
       "      <td>0.344097</td>\n",
       "      <td>0.779850</td>\n",
       "      <td>0.721426</td>\n",
       "    </tr>\n",
       "  </tbody>\n",
       "</table>\n",
       "</div>"
      ],
      "text/plain": [
       "             Accuracy Validation  Accuracy Test  Precision Validation  \\\n",
       "Iteration 1             0.849765       0.835681              0.453860   \n",
       "Iteration 2             0.835681       0.835681              0.428853   \n",
       "Iteration 3             0.854460       0.854460              0.469830   \n",
       "\n",
       "             Precision Test  AUC-ROC Validation  AUC-ROC Test  \n",
       "Iteration 1        0.282088            0.767655      0.671789  \n",
       "Iteration 2        0.314510            0.758934      0.710376  \n",
       "Iteration 3        0.344097            0.779850      0.721426  "
      ]
     },
     "execution_count": 35,
     "metadata": {},
     "output_type": "execute_result"
    }
   ],
   "source": [
    "pd.DataFrame.from_dict(iteration_mets).T"
   ]
  },
  {
   "cell_type": "markdown",
   "metadata": {},
   "source": [
    "It seems like the refinements made in the third iteration are pretty effective."
   ]
  },
  {
   "cell_type": "code",
   "execution_count": 38,
   "metadata": {},
   "outputs": [],
   "source": [
    "params = {\n",
    "    'n_estimators': [x for x in range(120, 225)],\n",
    "    'learning_rate': [random.uniform(0.8, 1.1) for x in range(100)]\n",
    "}\n",
    "\n",
    "par = dict()\n",
    "iteration_mets = dict()\n",
    "for i in range(6):\n",
    "    ada = AdaBoostClassifier(random_state = 6)\n",
    "    rnd = RandomizedSearchCV(ada, param_distributions = params, n_iter = 30, scoring = 'accuracy')\n",
    "    rnd.fit(X_train_sm, y_train_sm)\n",
    "    # taking best parameters from above and storing them, then fitting a new classifier on them to evaluate\n",
    "    ada = AdaBoostClassifier(**rnd.best_params_)\n",
    "    par['Iteration '+str(i)] = rnd.best_params_\n",
    "    ada.fit(X_train_sm, y_train_sm)\n",
    "    \n",
    "    mets = clf_evals(ada, X_train_sm, y_train_sm, X_val, y_val, X_test, y_test)\n",
    "    mets['Accuracy Score'] = rnd.best_score_\n",
    "    iteration_mets['Iteration '+str(i)] = mets"
   ]
  },
  {
   "cell_type": "code",
   "execution_count": 39,
   "metadata": {},
   "outputs": [
    {
     "data": {
      "text/html": [
       "<div>\n",
       "<style scoped>\n",
       "    .dataframe tbody tr th:only-of-type {\n",
       "        vertical-align: middle;\n",
       "    }\n",
       "\n",
       "    .dataframe tbody tr th {\n",
       "        vertical-align: top;\n",
       "    }\n",
       "\n",
       "    .dataframe thead th {\n",
       "        text-align: right;\n",
       "    }\n",
       "</style>\n",
       "<table border=\"1\" class=\"dataframe\">\n",
       "  <thead>\n",
       "    <tr style=\"text-align: right;\">\n",
       "      <th></th>\n",
       "      <th>Accuracy Validation</th>\n",
       "      <th>Accuracy Test</th>\n",
       "      <th>Precision Validation</th>\n",
       "      <th>Precision Test</th>\n",
       "      <th>AUC-ROC Validation</th>\n",
       "      <th>AUC-ROC Test</th>\n",
       "      <th>Accuracy Score</th>\n",
       "    </tr>\n",
       "  </thead>\n",
       "  <tbody>\n",
       "    <tr>\n",
       "      <th>Iteration 0</th>\n",
       "      <td>0.840376</td>\n",
       "      <td>0.826291</td>\n",
       "      <td>0.429627</td>\n",
       "      <td>0.280705</td>\n",
       "      <td>0.752552</td>\n",
       "      <td>0.679126</td>\n",
       "      <td>0.869646</td>\n",
       "    </tr>\n",
       "    <tr>\n",
       "      <th>Iteration 1</th>\n",
       "      <td>0.854460</td>\n",
       "      <td>0.830986</td>\n",
       "      <td>0.462989</td>\n",
       "      <td>0.297340</td>\n",
       "      <td>0.770562</td>\n",
       "      <td>0.694751</td>\n",
       "      <td>0.870240</td>\n",
       "    </tr>\n",
       "    <tr>\n",
       "      <th>Iteration 2</th>\n",
       "      <td>0.835681</td>\n",
       "      <td>0.854460</td>\n",
       "      <td>0.421570</td>\n",
       "      <td>0.333182</td>\n",
       "      <td>0.749645</td>\n",
       "      <td>0.708564</td>\n",
       "      <td>0.870840</td>\n",
       "    </tr>\n",
       "    <tr>\n",
       "      <th>Iteration 3</th>\n",
       "      <td>0.835681</td>\n",
       "      <td>0.849765</td>\n",
       "      <td>0.421570</td>\n",
       "      <td>0.336048</td>\n",
       "      <td>0.749645</td>\n",
       "      <td>0.718664</td>\n",
       "      <td>0.868440</td>\n",
       "    </tr>\n",
       "    <tr>\n",
       "      <th>Iteration 4</th>\n",
       "      <td>0.845070</td>\n",
       "      <td>0.840376</td>\n",
       "      <td>0.445145</td>\n",
       "      <td>0.310411</td>\n",
       "      <td>0.764748</td>\n",
       "      <td>0.700276</td>\n",
       "      <td>0.868447</td>\n",
       "    </tr>\n",
       "    <tr>\n",
       "      <th>Iteration 5</th>\n",
       "      <td>0.840376</td>\n",
       "      <td>0.849765</td>\n",
       "      <td>0.436818</td>\n",
       "      <td>0.346978</td>\n",
       "      <td>0.761841</td>\n",
       "      <td>0.731526</td>\n",
       "      <td>0.867837</td>\n",
       "    </tr>\n",
       "  </tbody>\n",
       "</table>\n",
       "</div>"
      ],
      "text/plain": [
       "             Accuracy Validation  Accuracy Test  Precision Validation  \\\n",
       "Iteration 0             0.840376       0.826291              0.429627   \n",
       "Iteration 1             0.854460       0.830986              0.462989   \n",
       "Iteration 2             0.835681       0.854460              0.421570   \n",
       "Iteration 3             0.835681       0.849765              0.421570   \n",
       "Iteration 4             0.845070       0.840376              0.445145   \n",
       "Iteration 5             0.840376       0.849765              0.436818   \n",
       "\n",
       "             Precision Test  AUC-ROC Validation  AUC-ROC Test  Accuracy Score  \n",
       "Iteration 0        0.280705            0.752552      0.679126        0.869646  \n",
       "Iteration 1        0.297340            0.770562      0.694751        0.870240  \n",
       "Iteration 2        0.333182            0.749645      0.708564        0.870840  \n",
       "Iteration 3        0.336048            0.749645      0.718664        0.868440  \n",
       "Iteration 4        0.310411            0.764748      0.700276        0.868447  \n",
       "Iteration 5        0.346978            0.761841      0.731526        0.867837  "
      ]
     },
     "execution_count": 39,
     "metadata": {},
     "output_type": "execute_result"
    }
   ],
   "source": [
    "pd.DataFrame.from_dict(iteration_mets).T"
   ]
  },
  {
   "cell_type": "markdown",
   "metadata": {},
   "source": [
    "The differences are pretty negligble - as parameters are changed some metrics improve slightly while others regress slightly. It seems that **iteration 5** performed best in this test, and so those parameters will be used in the final model (the determination of *best* output is somewhat subjective here)."
   ]
  },
  {
   "cell_type": "markdown",
   "metadata": {},
   "source": [
    "# Final Model"
   ]
  },
  {
   "cell_type": "markdown",
   "metadata": {},
   "source": [
    "#### Final model from time of writing is detailed beneath the custom function definition section above."
   ]
  }
 ],
 "metadata": {
  "kernelspec": {
   "display_name": "Python 3",
   "language": "python",
   "name": "python3"
  },
  "language_info": {
   "codemirror_mode": {
    "name": "ipython",
    "version": 3
   },
   "file_extension": ".py",
   "mimetype": "text/x-python",
   "name": "python",
   "nbconvert_exporter": "python",
   "pygments_lexer": "ipython3",
   "version": "3.7.1"
  },
  "toc": {
   "base_numbering": 1,
   "nav_menu": {},
   "number_sections": true,
   "sideBar": true,
   "skip_h1_title": false,
   "title_cell": "Table of Contents",
   "title_sidebar": "Contents",
   "toc_cell": false,
   "toc_position": {},
   "toc_section_display": true,
   "toc_window_display": true
  }
 },
 "nbformat": 4,
 "nbformat_minor": 5
}
